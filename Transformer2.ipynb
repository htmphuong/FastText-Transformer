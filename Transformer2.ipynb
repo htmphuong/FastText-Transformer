{
 "cells": [
  {
   "cell_type": "code",
   "execution_count": 1,
   "id": "831fb9d8",
   "metadata": {
    "scrolled": true
   },
   "outputs": [
    {
     "name": "stdout",
     "output_type": "stream",
     "text": [
      "0\n"
     ]
    }
   ],
   "source": [
    "import os\n",
    "os.environ[\"TF_ENABLE_ONEDNN_OPTS\"]=\"0\"\n",
    "print(os.environ[\"TF_ENABLE_ONEDNN_OPTS\"])"
   ]
  },
  {
   "cell_type": "code",
   "execution_count": 2,
   "id": "c05a7f45",
   "metadata": {
    "scrolled": true
   },
   "outputs": [
    {
     "name": "stdout",
     "output_type": "stream",
     "text": [
      "DONE----------\n"
     ]
    }
   ],
   "source": [
    "import pandas as pd\n",
    "import numpy as np\n",
    "import os\n",
    "import keras\n",
    "from tensorflow.keras import layers, models\n",
    "from sklearn.metrics import classification_report\n",
    "\n",
    "print(\"DONE----------\")"
   ]
  },
  {
   "cell_type": "code",
   "execution_count": 3,
   "id": "278a2e44",
   "metadata": {},
   "outputs": [
    {
     "data": {
      "text/html": [
       "<div>\n",
       "<style scoped>\n",
       "    .dataframe tbody tr th:only-of-type {\n",
       "        vertical-align: middle;\n",
       "    }\n",
       "\n",
       "    .dataframe tbody tr th {\n",
       "        vertical-align: top;\n",
       "    }\n",
       "\n",
       "    .dataframe thead th {\n",
       "        text-align: right;\n",
       "    }\n",
       "</style>\n",
       "<table border=\"1\" class=\"dataframe\">\n",
       "  <thead>\n",
       "    <tr style=\"text-align: right;\">\n",
       "      <th></th>\n",
       "      <th>File</th>\n",
       "      <th>Bug</th>\n",
       "    </tr>\n",
       "  </thead>\n",
       "  <tbody>\n",
       "  </tbody>\n",
       "</table>\n",
       "</div>"
      ],
      "text/plain": [
       "Empty DataFrame\n",
       "Columns: [File, Bug]\n",
       "Index: []"
      ]
     },
     "execution_count": 3,
     "metadata": {},
     "output_type": "execute_result"
    }
   ],
   "source": [
    "df = pd.DataFrame(columns=[\"File\", \"Bug\"])\n",
    "df.head()"
   ]
  },
  {
   "cell_type": "code",
   "execution_count": 4,
   "id": "d59942ae",
   "metadata": {},
   "outputs": [],
   "source": [
    "fileName = []\n",
    "for f in os.listdir(\"./data/Clean Data/jedit/jEdit32\"):\n",
    "    fileName.append(f.split(\".\")[0])\n",
    "df[\"File\"] = fileName"
   ]
  },
  {
   "cell_type": "code",
   "execution_count": 5,
   "id": "d62f5619",
   "metadata": {},
   "outputs": [
    {
     "data": {
      "text/html": [
       "<div>\n",
       "<style scoped>\n",
       "    .dataframe tbody tr th:only-of-type {\n",
       "        vertical-align: middle;\n",
       "    }\n",
       "\n",
       "    .dataframe tbody tr th {\n",
       "        vertical-align: top;\n",
       "    }\n",
       "\n",
       "    .dataframe thead th {\n",
       "        text-align: right;\n",
       "    }\n",
       "</style>\n",
       "<table border=\"1\" class=\"dataframe\">\n",
       "  <thead>\n",
       "    <tr style=\"text-align: right;\">\n",
       "      <th></th>\n",
       "      <th>File</th>\n",
       "      <th>Bug</th>\n",
       "    </tr>\n",
       "  </thead>\n",
       "  <tbody>\n",
       "    <tr>\n",
       "      <th>0</th>\n",
       "      <td>AbbrevEditor</td>\n",
       "      <td>0</td>\n",
       "    </tr>\n",
       "    <tr>\n",
       "      <th>1</th>\n",
       "      <td>AbbrevsOptionPane</td>\n",
       "      <td>0</td>\n",
       "    </tr>\n",
       "    <tr>\n",
       "      <th>2</th>\n",
       "      <td>AboutDialog</td>\n",
       "      <td>0</td>\n",
       "    </tr>\n",
       "    <tr>\n",
       "      <th>3</th>\n",
       "      <td>AbstractOptionPane</td>\n",
       "      <td>0</td>\n",
       "    </tr>\n",
       "    <tr>\n",
       "      <th>4</th>\n",
       "      <td>ActionListHandler</td>\n",
       "      <td>0</td>\n",
       "    </tr>\n",
       "  </tbody>\n",
       "</table>\n",
       "</div>"
      ],
      "text/plain": [
       "                 File  Bug\n",
       "0        AbbrevEditor    0\n",
       "1   AbbrevsOptionPane    0\n",
       "2         AboutDialog    0\n",
       "3  AbstractOptionPane    0\n",
       "4   ActionListHandler    0"
      ]
     },
     "execution_count": 5,
     "metadata": {},
     "output_type": "execute_result"
    }
   ],
   "source": [
    "df[\"Bug\"] = 0\n",
    "df.head()"
   ]
  },
  {
   "cell_type": "code",
   "execution_count": 6,
   "id": "7724c873",
   "metadata": {},
   "outputs": [
    {
     "data": {
      "text/plain": [
       "(256, 2)"
      ]
     },
     "execution_count": 6,
     "metadata": {},
     "output_type": "execute_result"
    }
   ],
   "source": [
    "df.shape"
   ]
  },
  {
   "cell_type": "code",
   "execution_count": 7,
   "id": "f978328b",
   "metadata": {},
   "outputs": [
    {
     "data": {
      "text/html": [
       "<div>\n",
       "<style scoped>\n",
       "    .dataframe tbody tr th:only-of-type {\n",
       "        vertical-align: middle;\n",
       "    }\n",
       "\n",
       "    .dataframe tbody tr th {\n",
       "        vertical-align: top;\n",
       "    }\n",
       "\n",
       "    .dataframe thead th {\n",
       "        text-align: right;\n",
       "    }\n",
       "</style>\n",
       "<table border=\"1\" class=\"dataframe\">\n",
       "  <thead>\n",
       "    <tr style=\"text-align: right;\">\n",
       "      <th></th>\n",
       "      <th>name</th>\n",
       "      <th>wmc</th>\n",
       "      <th>dit</th>\n",
       "      <th>noc</th>\n",
       "      <th>cbo</th>\n",
       "      <th>rfc</th>\n",
       "      <th>lcom</th>\n",
       "      <th>ca</th>\n",
       "      <th>ce</th>\n",
       "      <th>npm</th>\n",
       "      <th>...</th>\n",
       "      <th>dam</th>\n",
       "      <th>moa</th>\n",
       "      <th>mfa</th>\n",
       "      <th>cam</th>\n",
       "      <th>ic</th>\n",
       "      <th>cbm</th>\n",
       "      <th>amc</th>\n",
       "      <th>max_cc</th>\n",
       "      <th>avg_cc</th>\n",
       "      <th>bug</th>\n",
       "    </tr>\n",
       "  </thead>\n",
       "  <tbody>\n",
       "    <tr>\n",
       "      <th>0</th>\n",
       "      <td>org.gjt.sp.jedit.Registers</td>\n",
       "      <td>14</td>\n",
       "      <td>1</td>\n",
       "      <td>0</td>\n",
       "      <td>9</td>\n",
       "      <td>45</td>\n",
       "      <td>61</td>\n",
       "      <td>3</td>\n",
       "      <td>6</td>\n",
       "      <td>11</td>\n",
       "      <td>...</td>\n",
       "      <td>1.0</td>\n",
       "      <td>1</td>\n",
       "      <td>0.000000</td>\n",
       "      <td>0.294872</td>\n",
       "      <td>0</td>\n",
       "      <td>0</td>\n",
       "      <td>29.142857</td>\n",
       "      <td>8</td>\n",
       "      <td>2.4286</td>\n",
       "      <td>0</td>\n",
       "    </tr>\n",
       "    <tr>\n",
       "      <th>1</th>\n",
       "      <td>gnu.regexp.RETokenRepeated</td>\n",
       "      <td>7</td>\n",
       "      <td>2</td>\n",
       "      <td>0</td>\n",
       "      <td>4</td>\n",
       "      <td>21</td>\n",
       "      <td>0</td>\n",
       "      <td>1</td>\n",
       "      <td>3</td>\n",
       "      <td>0</td>\n",
       "      <td>...</td>\n",
       "      <td>1.0</td>\n",
       "      <td>1</td>\n",
       "      <td>0.538462</td>\n",
       "      <td>0.333333</td>\n",
       "      <td>1</td>\n",
       "      <td>3</td>\n",
       "      <td>41.285714</td>\n",
       "      <td>16</td>\n",
       "      <td>4.7143</td>\n",
       "      <td>0</td>\n",
       "    </tr>\n",
       "    <tr>\n",
       "      <th>2</th>\n",
       "      <td>gnu.regexp.REMatchEnumeration</td>\n",
       "      <td>6</td>\n",
       "      <td>1</td>\n",
       "      <td>0</td>\n",
       "      <td>3</td>\n",
       "      <td>11</td>\n",
       "      <td>9</td>\n",
       "      <td>1</td>\n",
       "      <td>3</td>\n",
       "      <td>5</td>\n",
       "      <td>...</td>\n",
       "      <td>1.0</td>\n",
       "      <td>3</td>\n",
       "      <td>0.000000</td>\n",
       "      <td>0.333333</td>\n",
       "      <td>0</td>\n",
       "      <td>0</td>\n",
       "      <td>16.333333</td>\n",
       "      <td>5</td>\n",
       "      <td>1.5000</td>\n",
       "      <td>0</td>\n",
       "    </tr>\n",
       "    <tr>\n",
       "      <th>3</th>\n",
       "      <td>bsh.BSHType</td>\n",
       "      <td>6</td>\n",
       "      <td>2</td>\n",
       "      <td>0</td>\n",
       "      <td>16</td>\n",
       "      <td>14</td>\n",
       "      <td>3</td>\n",
       "      <td>8</td>\n",
       "      <td>8</td>\n",
       "      <td>5</td>\n",
       "      <td>...</td>\n",
       "      <td>1.0</td>\n",
       "      <td>0</td>\n",
       "      <td>0.782609</td>\n",
       "      <td>0.444444</td>\n",
       "      <td>0</td>\n",
       "      <td>0</td>\n",
       "      <td>13.833333</td>\n",
       "      <td>1</td>\n",
       "      <td>0.8333</td>\n",
       "      <td>0</td>\n",
       "    </tr>\n",
       "    <tr>\n",
       "      <th>4</th>\n",
       "      <td>gnu.regexp.RETokenOneOf</td>\n",
       "      <td>5</td>\n",
       "      <td>2</td>\n",
       "      <td>0</td>\n",
       "      <td>5</td>\n",
       "      <td>22</td>\n",
       "      <td>0</td>\n",
       "      <td>1</td>\n",
       "      <td>4</td>\n",
       "      <td>0</td>\n",
       "      <td>...</td>\n",
       "      <td>1.0</td>\n",
       "      <td>0</td>\n",
       "      <td>0.700000</td>\n",
       "      <td>0.350000</td>\n",
       "      <td>1</td>\n",
       "      <td>3</td>\n",
       "      <td>39.800000</td>\n",
       "      <td>11</td>\n",
       "      <td>4.0000</td>\n",
       "      <td>0</td>\n",
       "    </tr>\n",
       "  </tbody>\n",
       "</table>\n",
       "<p>5 rows × 22 columns</p>\n",
       "</div>"
      ],
      "text/plain": [
       "                            name  wmc  dit  noc  cbo  rfc  lcom  ca  ce  npm  \\\n",
       "0     org.gjt.sp.jedit.Registers   14    1    0    9   45    61   3   6   11   \n",
       "1     gnu.regexp.RETokenRepeated    7    2    0    4   21     0   1   3    0   \n",
       "2  gnu.regexp.REMatchEnumeration    6    1    0    3   11     9   1   3    5   \n",
       "3                    bsh.BSHType    6    2    0   16   14     3   8   8    5   \n",
       "4        gnu.regexp.RETokenOneOf    5    2    0    5   22     0   1   4    0   \n",
       "\n",
       "   ...  dam  moa       mfa       cam  ic  cbm        amc  max_cc  avg_cc  bug  \n",
       "0  ...  1.0    1  0.000000  0.294872   0    0  29.142857       8  2.4286    0  \n",
       "1  ...  1.0    1  0.538462  0.333333   1    3  41.285714      16  4.7143    0  \n",
       "2  ...  1.0    3  0.000000  0.333333   0    0  16.333333       5  1.5000    0  \n",
       "3  ...  1.0    0  0.782609  0.444444   0    0  13.833333       1  0.8333    0  \n",
       "4  ...  1.0    0  0.700000  0.350000   1    3  39.800000      11  4.0000    0  \n",
       "\n",
       "[5 rows x 22 columns]"
      ]
     },
     "execution_count": 7,
     "metadata": {},
     "output_type": "execute_result"
    }
   ],
   "source": [
    "bug_df = pd.read_csv(\"./data/PROMISE-backup/bug-data/jedit/jedit-3.2.csv\")\n",
    "bug_df.head()"
   ]
  },
  {
   "cell_type": "code",
   "execution_count": 8,
   "id": "fed9d8d6",
   "metadata": {},
   "outputs": [
    {
     "data": {
      "text/plain": [
       "(90, 22)"
      ]
     },
     "execution_count": 8,
     "metadata": {},
     "output_type": "execute_result"
    }
   ],
   "source": [
    "bug_df = bug_df[bug_df[\"bug\"] != 0]\n",
    "bug_df.shape"
   ]
  },
  {
   "cell_type": "code",
   "execution_count": 9,
   "id": "933e2b30",
   "metadata": {},
   "outputs": [
    {
     "data": {
      "text/html": [
       "<div>\n",
       "<style scoped>\n",
       "    .dataframe tbody tr th:only-of-type {\n",
       "        vertical-align: middle;\n",
       "    }\n",
       "\n",
       "    .dataframe tbody tr th {\n",
       "        vertical-align: top;\n",
       "    }\n",
       "\n",
       "    .dataframe thead th {\n",
       "        text-align: right;\n",
       "    }\n",
       "</style>\n",
       "<table border=\"1\" class=\"dataframe\">\n",
       "  <thead>\n",
       "    <tr style=\"text-align: right;\">\n",
       "      <th></th>\n",
       "      <th>name</th>\n",
       "      <th>wmc</th>\n",
       "      <th>dit</th>\n",
       "      <th>noc</th>\n",
       "      <th>cbo</th>\n",
       "      <th>rfc</th>\n",
       "      <th>lcom</th>\n",
       "      <th>ca</th>\n",
       "      <th>ce</th>\n",
       "      <th>npm</th>\n",
       "      <th>...</th>\n",
       "      <th>dam</th>\n",
       "      <th>moa</th>\n",
       "      <th>mfa</th>\n",
       "      <th>cam</th>\n",
       "      <th>ic</th>\n",
       "      <th>cbm</th>\n",
       "      <th>amc</th>\n",
       "      <th>max_cc</th>\n",
       "      <th>avg_cc</th>\n",
       "      <th>bug</th>\n",
       "    </tr>\n",
       "  </thead>\n",
       "  <tbody>\n",
       "    <tr>\n",
       "      <th>10</th>\n",
       "      <td>org.gjt.sp.jedit.EditPlugin</td>\n",
       "      <td>10</td>\n",
       "      <td>1</td>\n",
       "      <td>2</td>\n",
       "      <td>11</td>\n",
       "      <td>13</td>\n",
       "      <td>39</td>\n",
       "      <td>10</td>\n",
       "      <td>3</td>\n",
       "      <td>8</td>\n",
       "      <td>...</td>\n",
       "      <td>1.000000</td>\n",
       "      <td>1</td>\n",
       "      <td>0.000000</td>\n",
       "      <td>0.250000</td>\n",
       "      <td>0</td>\n",
       "      <td>0</td>\n",
       "      <td>2.200000</td>\n",
       "      <td>1</td>\n",
       "      <td>0.9000</td>\n",
       "      <td>1</td>\n",
       "    </tr>\n",
       "    <tr>\n",
       "      <th>12</th>\n",
       "      <td>org.gjt.sp.jedit.browser.VFSBrowser</td>\n",
       "      <td>54</td>\n",
       "      <td>5</td>\n",
       "      <td>0</td>\n",
       "      <td>41</td>\n",
       "      <td>175</td>\n",
       "      <td>1183</td>\n",
       "      <td>21</td>\n",
       "      <td>27</td>\n",
       "      <td>25</td>\n",
       "      <td>...</td>\n",
       "      <td>0.846154</td>\n",
       "      <td>5</td>\n",
       "      <td>0.926241</td>\n",
       "      <td>0.122896</td>\n",
       "      <td>3</td>\n",
       "      <td>12</td>\n",
       "      <td>24.907407</td>\n",
       "      <td>11</td>\n",
       "      <td>2.1296</td>\n",
       "      <td>18</td>\n",
       "    </tr>\n",
       "    <tr>\n",
       "      <th>13</th>\n",
       "      <td>org.gjt.sp.jedit.options.DockingOptionPane</td>\n",
       "      <td>5</td>\n",
       "      <td>6</td>\n",
       "      <td>0</td>\n",
       "      <td>6</td>\n",
       "      <td>51</td>\n",
       "      <td>6</td>\n",
       "      <td>2</td>\n",
       "      <td>5</td>\n",
       "      <td>3</td>\n",
       "      <td>...</td>\n",
       "      <td>1.000000</td>\n",
       "      <td>1</td>\n",
       "      <td>0.993994</td>\n",
       "      <td>1.000000</td>\n",
       "      <td>2</td>\n",
       "      <td>4</td>\n",
       "      <td>50.000000</td>\n",
       "      <td>3</td>\n",
       "      <td>1.4000</td>\n",
       "      <td>1</td>\n",
       "    </tr>\n",
       "    <tr>\n",
       "      <th>16</th>\n",
       "      <td>org.gjt.sp.jedit.gui.HelpViewer</td>\n",
       "      <td>18</td>\n",
       "      <td>6</td>\n",
       "      <td>0</td>\n",
       "      <td>21</td>\n",
       "      <td>124</td>\n",
       "      <td>117</td>\n",
       "      <td>7</td>\n",
       "      <td>20</td>\n",
       "      <td>6</td>\n",
       "      <td>...</td>\n",
       "      <td>1.000000</td>\n",
       "      <td>0</td>\n",
       "      <td>0.975794</td>\n",
       "      <td>0.187500</td>\n",
       "      <td>3</td>\n",
       "      <td>6</td>\n",
       "      <td>40.833333</td>\n",
       "      <td>7</td>\n",
       "      <td>1.5556</td>\n",
       "      <td>5</td>\n",
       "    </tr>\n",
       "    <tr>\n",
       "      <th>18</th>\n",
       "      <td>org.gjt.sp.jedit.options.EditingOptionPane</td>\n",
       "      <td>3</td>\n",
       "      <td>6</td>\n",
       "      <td>0</td>\n",
       "      <td>4</td>\n",
       "      <td>23</td>\n",
       "      <td>1</td>\n",
       "      <td>1</td>\n",
       "      <td>3</td>\n",
       "      <td>1</td>\n",
       "      <td>...</td>\n",
       "      <td>1.000000</td>\n",
       "      <td>0</td>\n",
       "      <td>0.996988</td>\n",
       "      <td>1.000000</td>\n",
       "      <td>2</td>\n",
       "      <td>4</td>\n",
       "      <td>105.333333</td>\n",
       "      <td>3</td>\n",
       "      <td>1.3333</td>\n",
       "      <td>3</td>\n",
       "    </tr>\n",
       "  </tbody>\n",
       "</table>\n",
       "<p>5 rows × 22 columns</p>\n",
       "</div>"
      ],
      "text/plain": [
       "                                          name  wmc  dit  noc  cbo  rfc  lcom  \\\n",
       "10                 org.gjt.sp.jedit.EditPlugin   10    1    2   11   13    39   \n",
       "12         org.gjt.sp.jedit.browser.VFSBrowser   54    5    0   41  175  1183   \n",
       "13  org.gjt.sp.jedit.options.DockingOptionPane    5    6    0    6   51     6   \n",
       "16             org.gjt.sp.jedit.gui.HelpViewer   18    6    0   21  124   117   \n",
       "18  org.gjt.sp.jedit.options.EditingOptionPane    3    6    0    4   23     1   \n",
       "\n",
       "    ca  ce  npm  ...       dam  moa       mfa       cam  ic  cbm         amc  \\\n",
       "10  10   3    8  ...  1.000000    1  0.000000  0.250000   0    0    2.200000   \n",
       "12  21  27   25  ...  0.846154    5  0.926241  0.122896   3   12   24.907407   \n",
       "13   2   5    3  ...  1.000000    1  0.993994  1.000000   2    4   50.000000   \n",
       "16   7  20    6  ...  1.000000    0  0.975794  0.187500   3    6   40.833333   \n",
       "18   1   3    1  ...  1.000000    0  0.996988  1.000000   2    4  105.333333   \n",
       "\n",
       "    max_cc  avg_cc  bug  \n",
       "10       1  0.9000    1  \n",
       "12      11  2.1296   18  \n",
       "13       3  1.4000    1  \n",
       "16       7  1.5556    5  \n",
       "18       3  1.3333    3  \n",
       "\n",
       "[5 rows x 22 columns]"
      ]
     },
     "execution_count": 9,
     "metadata": {},
     "output_type": "execute_result"
    }
   ],
   "source": [
    "bug_df.head()"
   ]
  },
  {
   "cell_type": "code",
   "execution_count": 10,
   "id": "c8edeefc",
   "metadata": {},
   "outputs": [],
   "source": [
    "fileHasBug = []\n",
    "for name in bug_df[\"name\"]:\n",
    "    fileHasBug.append(name.split(\".\")[-1])"
   ]
  },
  {
   "cell_type": "code",
   "execution_count": 11,
   "id": "d32e45fa",
   "metadata": {},
   "outputs": [
    {
     "data": {
      "text/plain": [
       "90"
      ]
     },
     "execution_count": 11,
     "metadata": {},
     "output_type": "execute_result"
    }
   ],
   "source": [
    "len(fileHasBug)"
   ]
  },
  {
   "cell_type": "code",
   "execution_count": 12,
   "id": "c785d59c",
   "metadata": {},
   "outputs": [],
   "source": [
    "df.loc[df[\"File\"].isin(fileHasBug), \"Bug\"] = 1"
   ]
  },
  {
   "cell_type": "code",
   "execution_count": 13,
   "id": "b164589f",
   "metadata": {},
   "outputs": [
    {
     "data": {
      "text/plain": [
       "1      1\n",
       "2      1\n",
       "3      1\n",
       "4      1\n",
       "9      1\n",
       "      ..\n",
       "243    1\n",
       "245    1\n",
       "249    1\n",
       "250    1\n",
       "254    1\n",
       "Name: Bug, Length: 78, dtype: int64"
      ]
     },
     "execution_count": 13,
     "metadata": {},
     "output_type": "execute_result"
    }
   ],
   "source": [
    "df.loc[df[\"File\"].isin(fileHasBug)][\"Bug\"]"
   ]
  },
  {
   "cell_type": "code",
   "execution_count": 14,
   "id": "3b0faaf0",
   "metadata": {},
   "outputs": [
    {
     "data": {
      "text/plain": [
       "0    178\n",
       "1     78\n",
       "Name: Bug, dtype: int64"
      ]
     },
     "execution_count": 14,
     "metadata": {},
     "output_type": "execute_result"
    }
   ],
   "source": [
    "df[\"Bug\"].value_counts()"
   ]
  },
  {
   "cell_type": "code",
   "execution_count": 15,
   "id": "51bf2d1a",
   "metadata": {},
   "outputs": [
    {
     "data": {
      "text/plain": [
       "array([0, 1, 1, 1, 1, 0, 0, 0, 0, 1, 1, 1, 0, 1, 1, 0, 1, 1, 0, 0, 0, 0,\n",
       "       0, 0, 0, 0, 0, 0, 0, 0, 0, 0, 0, 0, 0, 0, 0, 0, 0, 0, 0, 0, 0, 0,\n",
       "       0, 0, 0, 0, 0, 0, 0, 0, 0, 0, 1, 0, 1, 0, 0, 0, 0, 0, 0, 0, 0, 0,\n",
       "       0, 0, 0, 1, 1, 0, 1, 0, 0, 0, 0, 0, 1, 1, 0, 0, 0, 0, 1, 0, 0, 0,\n",
       "       0, 0, 0, 1, 0, 0, 0, 0, 1, 0, 1, 0, 0, 1, 0, 1, 1, 0, 1, 0, 0, 0,\n",
       "       0, 1, 1, 0, 0, 0, 1, 0, 1, 1, 1, 1, 1, 0, 1, 0, 0, 0, 1, 1, 0, 1,\n",
       "       0, 0, 1, 0, 0, 0, 1, 0, 0, 1, 0, 0, 0, 1, 1, 1, 1, 1, 0, 0, 0, 0,\n",
       "       1, 0, 0, 0, 0, 0, 1, 0, 0, 1, 1, 1, 1, 1, 1, 1, 0, 0, 1, 0, 0, 0,\n",
       "       0, 0, 0, 0, 0, 0, 0, 1, 0, 0, 0, 0, 0, 0, 0, 0, 0, 0, 1, 0, 0, 0,\n",
       "       0, 0, 0, 0, 0, 0, 0, 0, 0, 0, 0, 0, 0, 1, 1, 1, 0, 1, 0, 1, 0, 0,\n",
       "       0, 1, 0, 1, 0, 0, 0, 0, 0, 0, 0, 0, 1, 0, 1, 1, 1, 0, 1, 1, 0, 1,\n",
       "       1, 1, 0, 1, 0, 0, 0, 1, 1, 0, 0, 0, 1, 0], dtype=int64)"
      ]
     },
     "execution_count": 15,
     "metadata": {},
     "output_type": "execute_result"
    }
   ],
   "source": [
    "y = np.asarray(df[\"Bug\"])\n",
    "y"
   ]
  },
  {
   "cell_type": "code",
   "execution_count": 16,
   "id": "d55897c2",
   "metadata": {},
   "outputs": [
    {
     "data": {
      "text/plain": [
       "(256,)"
      ]
     },
     "execution_count": 16,
     "metadata": {},
     "output_type": "execute_result"
    }
   ],
   "source": [
    "y.shape"
   ]
  },
  {
   "cell_type": "code",
   "execution_count": 17,
   "id": "53e7ef6c",
   "metadata": {},
   "outputs": [
    {
     "data": {
      "text/plain": [
       "(256, 1)"
      ]
     },
     "execution_count": 17,
     "metadata": {},
     "output_type": "execute_result"
    }
   ],
   "source": [
    "y = y.reshape(y.shape[0], 1)\n",
    "y.shape"
   ]
  },
  {
   "cell_type": "code",
   "execution_count": 18,
   "id": "f3639ca0",
   "metadata": {},
   "outputs": [
    {
     "data": {
      "text/plain": [
       "(256, 21201, 100)"
      ]
     },
     "execution_count": 18,
     "metadata": {},
     "output_type": "execute_result"
    }
   ],
   "source": [
    "# retrieving data from file.\n",
    "X = np.loadtxt(\"./data/X_jedit_jEdit32.txt\")\n",
    "\n",
    "X = X.reshape(X.shape[0], X.shape[1] // 100, 100)\n",
    "\n",
    "X.shape"
   ]
  },
  {
   "cell_type": "code",
   "execution_count": 19,
   "id": "b3ad075d",
   "metadata": {},
   "outputs": [],
   "source": [
    "X= X[:,:]"
   ]
  },
  {
   "cell_type": "markdown",
   "id": "4e8cb1c5",
   "metadata": {},
   "source": [
    "## Load test data"
   ]
  },
  {
   "cell_type": "code",
   "execution_count": 20,
   "id": "b416ce56",
   "metadata": {
    "scrolled": true
   },
   "outputs": [
    {
     "data": {
      "text/html": [
       "<div>\n",
       "<style scoped>\n",
       "    .dataframe tbody tr th:only-of-type {\n",
       "        vertical-align: middle;\n",
       "    }\n",
       "\n",
       "    .dataframe tbody tr th {\n",
       "        vertical-align: top;\n",
       "    }\n",
       "\n",
       "    .dataframe thead th {\n",
       "        text-align: right;\n",
       "    }\n",
       "</style>\n",
       "<table border=\"1\" class=\"dataframe\">\n",
       "  <thead>\n",
       "    <tr style=\"text-align: right;\">\n",
       "      <th></th>\n",
       "      <th>File</th>\n",
       "      <th>Bug</th>\n",
       "    </tr>\n",
       "  </thead>\n",
       "  <tbody>\n",
       "  </tbody>\n",
       "</table>\n",
       "</div>"
      ],
      "text/plain": [
       "Empty DataFrame\n",
       "Columns: [File, Bug]\n",
       "Index: []"
      ]
     },
     "execution_count": 20,
     "metadata": {},
     "output_type": "execute_result"
    }
   ],
   "source": [
    "df_test = pd.DataFrame(columns=[\"File\", \"Bug\"])\n",
    "df_test.head()"
   ]
  },
  {
   "cell_type": "code",
   "execution_count": 21,
   "id": "87133c71",
   "metadata": {},
   "outputs": [],
   "source": [
    "fileName = []\n",
    "for f in os.listdir(\"./data/Clean Data/jedit/jEdit40\"):\n",
    "    fileName.append(f.split(\".\")[0])\n",
    "df_test[\"File\"] = fileName"
   ]
  },
  {
   "cell_type": "code",
   "execution_count": 22,
   "id": "5f498632",
   "metadata": {},
   "outputs": [
    {
     "data": {
      "text/html": [
       "<div>\n",
       "<style scoped>\n",
       "    .dataframe tbody tr th:only-of-type {\n",
       "        vertical-align: middle;\n",
       "    }\n",
       "\n",
       "    .dataframe tbody tr th {\n",
       "        vertical-align: top;\n",
       "    }\n",
       "\n",
       "    .dataframe thead th {\n",
       "        text-align: right;\n",
       "    }\n",
       "</style>\n",
       "<table border=\"1\" class=\"dataframe\">\n",
       "  <thead>\n",
       "    <tr style=\"text-align: right;\">\n",
       "      <th></th>\n",
       "      <th>File</th>\n",
       "      <th>Bug</th>\n",
       "    </tr>\n",
       "  </thead>\n",
       "  <tbody>\n",
       "    <tr>\n",
       "      <th>0</th>\n",
       "      <td>AbbrevEditor</td>\n",
       "      <td>0</td>\n",
       "    </tr>\n",
       "    <tr>\n",
       "      <th>1</th>\n",
       "      <td>Abbrevs</td>\n",
       "      <td>0</td>\n",
       "    </tr>\n",
       "    <tr>\n",
       "      <th>2</th>\n",
       "      <td>AbbrevsOptionPane</td>\n",
       "      <td>0</td>\n",
       "    </tr>\n",
       "    <tr>\n",
       "      <th>3</th>\n",
       "      <td>AboutDialog</td>\n",
       "      <td>0</td>\n",
       "    </tr>\n",
       "    <tr>\n",
       "      <th>4</th>\n",
       "      <td>AbstractOptionPane</td>\n",
       "      <td>0</td>\n",
       "    </tr>\n",
       "  </tbody>\n",
       "</table>\n",
       "</div>"
      ],
      "text/plain": [
       "                 File  Bug\n",
       "0        AbbrevEditor    0\n",
       "1             Abbrevs    0\n",
       "2   AbbrevsOptionPane    0\n",
       "3         AboutDialog    0\n",
       "4  AbstractOptionPane    0"
      ]
     },
     "execution_count": 22,
     "metadata": {},
     "output_type": "execute_result"
    }
   ],
   "source": [
    "df_test[\"Bug\"] = 0\n",
    "df_test.head()"
   ]
  },
  {
   "cell_type": "code",
   "execution_count": 23,
   "id": "c2f373e8",
   "metadata": {},
   "outputs": [
    {
     "data": {
      "text/plain": [
       "(293, 2)"
      ]
     },
     "execution_count": 23,
     "metadata": {},
     "output_type": "execute_result"
    }
   ],
   "source": [
    "df_test.shape"
   ]
  },
  {
   "cell_type": "code",
   "execution_count": 24,
   "id": "421e88b2",
   "metadata": {},
   "outputs": [
    {
     "data": {
      "text/html": [
       "<div>\n",
       "<style scoped>\n",
       "    .dataframe tbody tr th:only-of-type {\n",
       "        vertical-align: middle;\n",
       "    }\n",
       "\n",
       "    .dataframe tbody tr th {\n",
       "        vertical-align: top;\n",
       "    }\n",
       "\n",
       "    .dataframe thead th {\n",
       "        text-align: right;\n",
       "    }\n",
       "</style>\n",
       "<table border=\"1\" class=\"dataframe\">\n",
       "  <thead>\n",
       "    <tr style=\"text-align: right;\">\n",
       "      <th></th>\n",
       "      <th>name</th>\n",
       "      <th>wmc</th>\n",
       "      <th>dit</th>\n",
       "      <th>noc</th>\n",
       "      <th>cbo</th>\n",
       "      <th>rfc</th>\n",
       "      <th>lcom</th>\n",
       "      <th>ca</th>\n",
       "      <th>ce</th>\n",
       "      <th>npm</th>\n",
       "      <th>...</th>\n",
       "      <th>dam</th>\n",
       "      <th>moa</th>\n",
       "      <th>mfa</th>\n",
       "      <th>cam</th>\n",
       "      <th>ic</th>\n",
       "      <th>cbm</th>\n",
       "      <th>amc</th>\n",
       "      <th>max_cc</th>\n",
       "      <th>avg_cc</th>\n",
       "      <th>bug</th>\n",
       "    </tr>\n",
       "  </thead>\n",
       "  <tbody>\n",
       "    <tr>\n",
       "      <th>0</th>\n",
       "      <td>org.gjt.sp.jedit.gui.MacrosMenu</td>\n",
       "      <td>6</td>\n",
       "      <td>8</td>\n",
       "      <td>0</td>\n",
       "      <td>10</td>\n",
       "      <td>22</td>\n",
       "      <td>15</td>\n",
       "      <td>1</td>\n",
       "      <td>10</td>\n",
       "      <td>4</td>\n",
       "      <td>...</td>\n",
       "      <td>0.0</td>\n",
       "      <td>0</td>\n",
       "      <td>0.994206</td>\n",
       "      <td>0.333333</td>\n",
       "      <td>1</td>\n",
       "      <td>7</td>\n",
       "      <td>20.333333</td>\n",
       "      <td>5</td>\n",
       "      <td>2.1667</td>\n",
       "      <td>0</td>\n",
       "    </tr>\n",
       "    <tr>\n",
       "      <th>1</th>\n",
       "      <td>org.gjt.sp.jedit.options.ModeOptionPane</td>\n",
       "      <td>12</td>\n",
       "      <td>6</td>\n",
       "      <td>0</td>\n",
       "      <td>7</td>\n",
       "      <td>39</td>\n",
       "      <td>28</td>\n",
       "      <td>3</td>\n",
       "      <td>6</td>\n",
       "      <td>1</td>\n",
       "      <td>...</td>\n",
       "      <td>1.0</td>\n",
       "      <td>2</td>\n",
       "      <td>0.983655</td>\n",
       "      <td>0.500000</td>\n",
       "      <td>1</td>\n",
       "      <td>3</td>\n",
       "      <td>45.416667</td>\n",
       "      <td>2</td>\n",
       "      <td>1.1667</td>\n",
       "      <td>1</td>\n",
       "    </tr>\n",
       "    <tr>\n",
       "      <th>2</th>\n",
       "      <td>org.gjt.sp.jedit.gui.OptionsDialog</td>\n",
       "      <td>14</td>\n",
       "      <td>7</td>\n",
       "      <td>0</td>\n",
       "      <td>28</td>\n",
       "      <td>108</td>\n",
       "      <td>69</td>\n",
       "      <td>3</td>\n",
       "      <td>28</td>\n",
       "      <td>8</td>\n",
       "      <td>...</td>\n",
       "      <td>1.0</td>\n",
       "      <td>2</td>\n",
       "      <td>0.980480</td>\n",
       "      <td>0.174603</td>\n",
       "      <td>0</td>\n",
       "      <td>0</td>\n",
       "      <td>50.571429</td>\n",
       "      <td>9</td>\n",
       "      <td>2.1429</td>\n",
       "      <td>2</td>\n",
       "    </tr>\n",
       "    <tr>\n",
       "      <th>3</th>\n",
       "      <td>org.gjt.sp.jedit.buffer.ExplicitFoldHandler</td>\n",
       "      <td>2</td>\n",
       "      <td>2</td>\n",
       "      <td>0</td>\n",
       "      <td>2</td>\n",
       "      <td>6</td>\n",
       "      <td>1</td>\n",
       "      <td>1</td>\n",
       "      <td>2</td>\n",
       "      <td>2</td>\n",
       "      <td>...</td>\n",
       "      <td>0.0</td>\n",
       "      <td>0</td>\n",
       "      <td>0.875000</td>\n",
       "      <td>0.625000</td>\n",
       "      <td>0</td>\n",
       "      <td>0</td>\n",
       "      <td>41.500000</td>\n",
       "      <td>5</td>\n",
       "      <td>2.5000</td>\n",
       "      <td>0</td>\n",
       "    </tr>\n",
       "    <tr>\n",
       "      <th>4</th>\n",
       "      <td>org.gjt.sp.jedit.options.GeneralOptionPane</td>\n",
       "      <td>5</td>\n",
       "      <td>6</td>\n",
       "      <td>0</td>\n",
       "      <td>5</td>\n",
       "      <td>28</td>\n",
       "      <td>0</td>\n",
       "      <td>2</td>\n",
       "      <td>4</td>\n",
       "      <td>1</td>\n",
       "      <td>...</td>\n",
       "      <td>1.0</td>\n",
       "      <td>0</td>\n",
       "      <td>0.993994</td>\n",
       "      <td>0.500000</td>\n",
       "      <td>2</td>\n",
       "      <td>4</td>\n",
       "      <td>64.000000</td>\n",
       "      <td>3</td>\n",
       "      <td>1.6000</td>\n",
       "      <td>1</td>\n",
       "    </tr>\n",
       "  </tbody>\n",
       "</table>\n",
       "<p>5 rows × 22 columns</p>\n",
       "</div>"
      ],
      "text/plain": [
       "                                          name  wmc  dit  noc  cbo  rfc  lcom  \\\n",
       "0              org.gjt.sp.jedit.gui.MacrosMenu    6    8    0   10   22    15   \n",
       "1      org.gjt.sp.jedit.options.ModeOptionPane   12    6    0    7   39    28   \n",
       "2           org.gjt.sp.jedit.gui.OptionsDialog   14    7    0   28  108    69   \n",
       "3  org.gjt.sp.jedit.buffer.ExplicitFoldHandler    2    2    0    2    6     1   \n",
       "4   org.gjt.sp.jedit.options.GeneralOptionPane    5    6    0    5   28     0   \n",
       "\n",
       "   ca  ce  npm  ...  dam  moa       mfa       cam  ic  cbm        amc  max_cc  \\\n",
       "0   1  10    4  ...  0.0    0  0.994206  0.333333   1    7  20.333333       5   \n",
       "1   3   6    1  ...  1.0    2  0.983655  0.500000   1    3  45.416667       2   \n",
       "2   3  28    8  ...  1.0    2  0.980480  0.174603   0    0  50.571429       9   \n",
       "3   1   2    2  ...  0.0    0  0.875000  0.625000   0    0  41.500000       5   \n",
       "4   2   4    1  ...  1.0    0  0.993994  0.500000   2    4  64.000000       3   \n",
       "\n",
       "   avg_cc  bug  \n",
       "0  2.1667    0  \n",
       "1  1.1667    1  \n",
       "2  2.1429    2  \n",
       "3  2.5000    0  \n",
       "4  1.6000    1  \n",
       "\n",
       "[5 rows x 22 columns]"
      ]
     },
     "execution_count": 24,
     "metadata": {},
     "output_type": "execute_result"
    }
   ],
   "source": [
    "bug_df_test = pd.read_csv(\"./data/PROMISE-backup/bug-data/jedit/jedit-4.0.csv\")\n",
    "bug_df_test.head()"
   ]
  },
  {
   "cell_type": "code",
   "execution_count": 25,
   "id": "96c24f9b",
   "metadata": {},
   "outputs": [
    {
     "data": {
      "text/plain": [
       "(75, 22)"
      ]
     },
     "execution_count": 25,
     "metadata": {},
     "output_type": "execute_result"
    }
   ],
   "source": [
    "bug_df_test = bug_df_test[bug_df_test[\"bug\"] != 0]\n",
    "bug_df_test.shape"
   ]
  },
  {
   "cell_type": "code",
   "execution_count": 26,
   "id": "e69fac24",
   "metadata": {},
   "outputs": [
    {
     "data": {
      "text/html": [
       "<div>\n",
       "<style scoped>\n",
       "    .dataframe tbody tr th:only-of-type {\n",
       "        vertical-align: middle;\n",
       "    }\n",
       "\n",
       "    .dataframe tbody tr th {\n",
       "        vertical-align: top;\n",
       "    }\n",
       "\n",
       "    .dataframe thead th {\n",
       "        text-align: right;\n",
       "    }\n",
       "</style>\n",
       "<table border=\"1\" class=\"dataframe\">\n",
       "  <thead>\n",
       "    <tr style=\"text-align: right;\">\n",
       "      <th></th>\n",
       "      <th>name</th>\n",
       "      <th>wmc</th>\n",
       "      <th>dit</th>\n",
       "      <th>noc</th>\n",
       "      <th>cbo</th>\n",
       "      <th>rfc</th>\n",
       "      <th>lcom</th>\n",
       "      <th>ca</th>\n",
       "      <th>ce</th>\n",
       "      <th>npm</th>\n",
       "      <th>...</th>\n",
       "      <th>dam</th>\n",
       "      <th>moa</th>\n",
       "      <th>mfa</th>\n",
       "      <th>cam</th>\n",
       "      <th>ic</th>\n",
       "      <th>cbm</th>\n",
       "      <th>amc</th>\n",
       "      <th>max_cc</th>\n",
       "      <th>avg_cc</th>\n",
       "      <th>bug</th>\n",
       "    </tr>\n",
       "  </thead>\n",
       "  <tbody>\n",
       "    <tr>\n",
       "      <th>1</th>\n",
       "      <td>org.gjt.sp.jedit.options.ModeOptionPane</td>\n",
       "      <td>12</td>\n",
       "      <td>6</td>\n",
       "      <td>0</td>\n",
       "      <td>7</td>\n",
       "      <td>39</td>\n",
       "      <td>28</td>\n",
       "      <td>3</td>\n",
       "      <td>6</td>\n",
       "      <td>1</td>\n",
       "      <td>...</td>\n",
       "      <td>1.0</td>\n",
       "      <td>2</td>\n",
       "      <td>0.983655</td>\n",
       "      <td>0.500000</td>\n",
       "      <td>1</td>\n",
       "      <td>3</td>\n",
       "      <td>45.416667</td>\n",
       "      <td>2</td>\n",
       "      <td>1.1667</td>\n",
       "      <td>1</td>\n",
       "    </tr>\n",
       "    <tr>\n",
       "      <th>2</th>\n",
       "      <td>org.gjt.sp.jedit.gui.OptionsDialog</td>\n",
       "      <td>14</td>\n",
       "      <td>7</td>\n",
       "      <td>0</td>\n",
       "      <td>28</td>\n",
       "      <td>108</td>\n",
       "      <td>69</td>\n",
       "      <td>3</td>\n",
       "      <td>28</td>\n",
       "      <td>8</td>\n",
       "      <td>...</td>\n",
       "      <td>1.0</td>\n",
       "      <td>2</td>\n",
       "      <td>0.980480</td>\n",
       "      <td>0.174603</td>\n",
       "      <td>0</td>\n",
       "      <td>0</td>\n",
       "      <td>50.571429</td>\n",
       "      <td>9</td>\n",
       "      <td>2.1429</td>\n",
       "      <td>2</td>\n",
       "    </tr>\n",
       "    <tr>\n",
       "      <th>4</th>\n",
       "      <td>org.gjt.sp.jedit.options.GeneralOptionPane</td>\n",
       "      <td>5</td>\n",
       "      <td>6</td>\n",
       "      <td>0</td>\n",
       "      <td>5</td>\n",
       "      <td>28</td>\n",
       "      <td>0</td>\n",
       "      <td>2</td>\n",
       "      <td>4</td>\n",
       "      <td>1</td>\n",
       "      <td>...</td>\n",
       "      <td>1.0</td>\n",
       "      <td>0</td>\n",
       "      <td>0.993994</td>\n",
       "      <td>0.500000</td>\n",
       "      <td>2</td>\n",
       "      <td>4</td>\n",
       "      <td>64.000000</td>\n",
       "      <td>3</td>\n",
       "      <td>1.6000</td>\n",
       "      <td>1</td>\n",
       "    </tr>\n",
       "    <tr>\n",
       "      <th>7</th>\n",
       "      <td>org.gjt.sp.jedit.gui.JCheckBoxList</td>\n",
       "      <td>8</td>\n",
       "      <td>5</td>\n",
       "      <td>0</td>\n",
       "      <td>3</td>\n",
       "      <td>33</td>\n",
       "      <td>28</td>\n",
       "      <td>1</td>\n",
       "      <td>2</td>\n",
       "      <td>7</td>\n",
       "      <td>...</td>\n",
       "      <td>0.0</td>\n",
       "      <td>0</td>\n",
       "      <td>0.992974</td>\n",
       "      <td>0.500000</td>\n",
       "      <td>1</td>\n",
       "      <td>1</td>\n",
       "      <td>16.875000</td>\n",
       "      <td>3</td>\n",
       "      <td>1.1250</td>\n",
       "      <td>1</td>\n",
       "    </tr>\n",
       "    <tr>\n",
       "      <th>10</th>\n",
       "      <td>org.gjt.sp.jedit.search.BoyerMooreSearchMatcher</td>\n",
       "      <td>7</td>\n",
       "      <td>1</td>\n",
       "      <td>0</td>\n",
       "      <td>6</td>\n",
       "      <td>20</td>\n",
       "      <td>0</td>\n",
       "      <td>1</td>\n",
       "      <td>5</td>\n",
       "      <td>4</td>\n",
       "      <td>...</td>\n",
       "      <td>1.0</td>\n",
       "      <td>1</td>\n",
       "      <td>0.000000</td>\n",
       "      <td>0.371429</td>\n",
       "      <td>0</td>\n",
       "      <td>0</td>\n",
       "      <td>47.285714</td>\n",
       "      <td>8</td>\n",
       "      <td>3.0000</td>\n",
       "      <td>1</td>\n",
       "    </tr>\n",
       "  </tbody>\n",
       "</table>\n",
       "<p>5 rows × 22 columns</p>\n",
       "</div>"
      ],
      "text/plain": [
       "                                               name  wmc  dit  noc  cbo  rfc  \\\n",
       "1           org.gjt.sp.jedit.options.ModeOptionPane   12    6    0    7   39   \n",
       "2                org.gjt.sp.jedit.gui.OptionsDialog   14    7    0   28  108   \n",
       "4        org.gjt.sp.jedit.options.GeneralOptionPane    5    6    0    5   28   \n",
       "7                org.gjt.sp.jedit.gui.JCheckBoxList    8    5    0    3   33   \n",
       "10  org.gjt.sp.jedit.search.BoyerMooreSearchMatcher    7    1    0    6   20   \n",
       "\n",
       "    lcom  ca  ce  npm  ...  dam  moa       mfa       cam  ic  cbm        amc  \\\n",
       "1     28   3   6    1  ...  1.0    2  0.983655  0.500000   1    3  45.416667   \n",
       "2     69   3  28    8  ...  1.0    2  0.980480  0.174603   0    0  50.571429   \n",
       "4      0   2   4    1  ...  1.0    0  0.993994  0.500000   2    4  64.000000   \n",
       "7     28   1   2    7  ...  0.0    0  0.992974  0.500000   1    1  16.875000   \n",
       "10     0   1   5    4  ...  1.0    1  0.000000  0.371429   0    0  47.285714   \n",
       "\n",
       "    max_cc  avg_cc  bug  \n",
       "1        2  1.1667    1  \n",
       "2        9  2.1429    2  \n",
       "4        3  1.6000    1  \n",
       "7        3  1.1250    1  \n",
       "10       8  3.0000    1  \n",
       "\n",
       "[5 rows x 22 columns]"
      ]
     },
     "execution_count": 26,
     "metadata": {},
     "output_type": "execute_result"
    }
   ],
   "source": [
    "bug_df_test.head()"
   ]
  },
  {
   "cell_type": "code",
   "execution_count": 27,
   "id": "49481aba",
   "metadata": {},
   "outputs": [],
   "source": [
    "fileHasBug = []\n",
    "for name in bug_df[\"name\"]:\n",
    "    fileHasBug.append(name.split(\".\")[-1])"
   ]
  },
  {
   "cell_type": "code",
   "execution_count": 28,
   "id": "10e00fe0",
   "metadata": {},
   "outputs": [
    {
     "data": {
      "text/plain": [
       "90"
      ]
     },
     "execution_count": 28,
     "metadata": {},
     "output_type": "execute_result"
    }
   ],
   "source": [
    "len(fileHasBug)"
   ]
  },
  {
   "cell_type": "code",
   "execution_count": 29,
   "id": "e7b3f2bd",
   "metadata": {},
   "outputs": [],
   "source": [
    "df_test.loc[df_test[\"File\"].isin(fileHasBug), \"Bug\"] = 1"
   ]
  },
  {
   "cell_type": "code",
   "execution_count": 30,
   "id": "5e6bee1f",
   "metadata": {},
   "outputs": [
    {
     "data": {
      "text/plain": [
       "2      1\n",
       "3      1\n",
       "4      1\n",
       "5      1\n",
       "11     1\n",
       "      ..\n",
       "280    1\n",
       "282    1\n",
       "286    1\n",
       "287    1\n",
       "291    1\n",
       "Name: Bug, Length: 84, dtype: int64"
      ]
     },
     "execution_count": 30,
     "metadata": {},
     "output_type": "execute_result"
    }
   ],
   "source": [
    "df_test.loc[df_test[\"File\"].isin(fileHasBug)][\"Bug\"]"
   ]
  },
  {
   "cell_type": "code",
   "execution_count": 31,
   "id": "fd9a36f8",
   "metadata": {},
   "outputs": [
    {
     "data": {
      "text/plain": [
       "0    209\n",
       "1     84\n",
       "Name: Bug, dtype: int64"
      ]
     },
     "execution_count": 31,
     "metadata": {},
     "output_type": "execute_result"
    }
   ],
   "source": [
    "df_test[\"Bug\"].value_counts()"
   ]
  },
  {
   "cell_type": "code",
   "execution_count": 32,
   "id": "b0673160",
   "metadata": {},
   "outputs": [
    {
     "data": {
      "text/plain": [
       "(293,)"
      ]
     },
     "execution_count": 32,
     "metadata": {},
     "output_type": "execute_result"
    }
   ],
   "source": [
    "y_test = np.asarray(df_test[\"Bug\"])\n",
    "y_test.shape"
   ]
  },
  {
   "cell_type": "code",
   "execution_count": 33,
   "id": "5bfa2742",
   "metadata": {},
   "outputs": [
    {
     "data": {
      "text/plain": [
       "(293,)"
      ]
     },
     "execution_count": 33,
     "metadata": {},
     "output_type": "execute_result"
    }
   ],
   "source": [
    "y_test.shape"
   ]
  },
  {
   "cell_type": "code",
   "execution_count": 34,
   "id": "ac037228",
   "metadata": {},
   "outputs": [
    {
     "data": {
      "text/plain": [
       "(293, 1)"
      ]
     },
     "execution_count": 34,
     "metadata": {},
     "output_type": "execute_result"
    }
   ],
   "source": [
    "y_test = y_test.reshape(y_test.shape[0], 1)\n",
    "y_test.shape"
   ]
  },
  {
   "cell_type": "code",
   "execution_count": 35,
   "id": "a56e4c5d",
   "metadata": {},
   "outputs": [
    {
     "data": {
      "text/plain": [
       "(293, 1)"
      ]
     },
     "execution_count": 35,
     "metadata": {},
     "output_type": "execute_result"
    }
   ],
   "source": [
    "y_test = y_test[:,:]\n",
    "y_test.shape"
   ]
  },
  {
   "cell_type": "code",
   "execution_count": 36,
   "id": "4564f65a",
   "metadata": {},
   "outputs": [
    {
     "data": {
      "text/plain": [
       "(293, 1)"
      ]
     },
     "execution_count": 36,
     "metadata": {},
     "output_type": "execute_result"
    }
   ],
   "source": [
    "y_test.shape"
   ]
  },
  {
   "cell_type": "code",
   "execution_count": 37,
   "id": "221f9b34",
   "metadata": {},
   "outputs": [
    {
     "data": {
      "text/plain": [
       "(293, 21201, 100)"
      ]
     },
     "execution_count": 37,
     "metadata": {},
     "output_type": "execute_result"
    }
   ],
   "source": [
    "# retrieving data from file.\n",
    "X_test = np.loadtxt(\"./data/X_jedit_jEdit40.txt\")\n",
    "\n",
    "X_test = X_test.reshape(X_test.shape[0], X_test.shape[1] // 100, 100)\n",
    "\n",
    "X_test.shape"
   ]
  },
  {
   "cell_type": "code",
   "execution_count": 38,
   "id": "9b60a25d",
   "metadata": {},
   "outputs": [
    {
     "data": {
      "text/plain": [
       "(293, 21201, 100)"
      ]
     },
     "execution_count": 38,
     "metadata": {},
     "output_type": "execute_result"
    }
   ],
   "source": [
    "X_test.shape"
   ]
  },
  {
   "cell_type": "markdown",
   "id": "e342a1cc",
   "metadata": {},
   "source": [
    "# CNN"
   ]
  },
  {
   "cell_type": "code",
   "execution_count": 39,
   "id": "91476743",
   "metadata": {},
   "outputs": [],
   "source": [
    "model = models.Sequential()\n",
    "model.add(layers.Conv1D(filters=5, kernel_size=1, activation=\"relu\", input_shape = (X.shape[1], X.shape[2])))\n",
    "model.add(layers.MaxPooling1D(X.shape[1]))\n",
    "model.add(layers.Dense(100, activation=\"relu\"))\n",
    "model.add(layers.Dense(1, activation=\"sigmoid\"))\n",
    "model.compile(loss='binary_crossentropy', optimizer='sgd', metrics=[\"mse\", \"acc\"])"
   ]
  },
  {
   "cell_type": "code",
   "execution_count": 40,
   "id": "72cd5960",
   "metadata": {},
   "outputs": [
    {
     "name": "stdout",
     "output_type": "stream",
     "text": [
      "Model: \"sequential\"\n",
      "_________________________________________________________________\n",
      " Layer (type)                Output Shape              Param #   \n",
      "=================================================================\n",
      " conv1d (Conv1D)             (None, 21201, 5)          505       \n",
      "                                                                 \n",
      " max_pooling1d (MaxPooling1D  (None, 1, 5)             0         \n",
      " )                                                               \n",
      "                                                                 \n",
      " dense (Dense)               (None, 1, 100)            600       \n",
      "                                                                 \n",
      " dense_1 (Dense)             (None, 1, 1)              101       \n",
      "                                                                 \n",
      "=================================================================\n",
      "Total params: 1,206\n",
      "Trainable params: 1,206\n",
      "Non-trainable params: 0\n",
      "_________________________________________________________________\n"
     ]
    }
   ],
   "source": [
    "model.summary()"
   ]
  },
  {
   "cell_type": "code",
   "execution_count": 41,
   "id": "9775b324",
   "metadata": {},
   "outputs": [
    {
     "name": "stdout",
     "output_type": "stream",
     "text": [
      "Epoch 1/200\n"
     ]
    },
    {
     "name": "stderr",
     "output_type": "stream",
     "text": [
      "2023-06-04 15:01:18.301590: W tensorflow/tsl/framework/cpu_allocator_impl.cc:83] Allocation of 1517991600 exceeds 10% of free system memory.\n",
      "2023-06-04 15:01:18.919775: W tensorflow/tsl/framework/cpu_allocator_impl.cc:83] Allocation of 271372800 exceeds 10% of free system memory.\n",
      "2023-06-04 15:01:18.919804: W tensorflow/tsl/framework/cpu_allocator_impl.cc:83] Allocation of 271372800 exceeds 10% of free system memory.\n",
      "2023-06-04 15:01:18.919855: W tensorflow/tsl/framework/cpu_allocator_impl.cc:83] Allocation of 271372800 exceeds 10% of free system memory.\n",
      "2023-06-04 15:01:18.919865: W tensorflow/tsl/framework/cpu_allocator_impl.cc:83] Allocation of 161127600 exceeds 10% of free system memory.\n"
     ]
    },
    {
     "name": "stdout",
     "output_type": "stream",
     "text": [
      "6/6 - 2s - loss: 0.7005 - mse: 0.2537 - acc: 0.3743 - val_loss: 0.6968 - val_mse: 0.2518 - val_acc: 0.5195 - 2s/epoch - 258ms/step\n",
      "Epoch 2/200\n",
      "6/6 - 0s - loss: 0.6952 - mse: 0.2510 - acc: 0.5307 - val_loss: 0.6908 - val_mse: 0.2488 - val_acc: 0.6494 - 464ms/epoch - 77ms/step\n",
      "Epoch 3/200\n",
      "6/6 - 1s - loss: 0.6906 - mse: 0.2487 - acc: 0.5810 - val_loss: 0.6853 - val_mse: 0.2461 - val_acc: 0.6623 - 504ms/epoch - 84ms/step\n",
      "Epoch 4/200\n",
      "6/6 - 0s - loss: 0.6865 - mse: 0.2467 - acc: 0.6257 - val_loss: 0.6800 - val_mse: 0.2434 - val_acc: 0.7013 - 498ms/epoch - 83ms/step\n",
      "Epoch 5/200\n",
      "6/6 - 1s - loss: 0.6827 - mse: 0.2448 - acc: 0.6704 - val_loss: 0.6750 - val_mse: 0.2409 - val_acc: 0.7403 - 502ms/epoch - 84ms/step\n",
      "Epoch 6/200\n",
      "6/6 - 0s - loss: 0.6789 - mse: 0.2429 - acc: 0.6816 - val_loss: 0.6703 - val_mse: 0.2386 - val_acc: 0.7403 - 491ms/epoch - 82ms/step\n",
      "Epoch 7/200\n",
      "6/6 - 1s - loss: 0.6757 - mse: 0.2413 - acc: 0.6760 - val_loss: 0.6658 - val_mse: 0.2363 - val_acc: 0.7403 - 504ms/epoch - 84ms/step\n",
      "Epoch 8/200\n",
      "6/6 - 1s - loss: 0.6725 - mse: 0.2397 - acc: 0.6760 - val_loss: 0.6619 - val_mse: 0.2344 - val_acc: 0.7403 - 503ms/epoch - 84ms/step\n",
      "Epoch 9/200\n",
      "6/6 - 0s - loss: 0.6697 - mse: 0.2383 - acc: 0.6760 - val_loss: 0.6580 - val_mse: 0.2325 - val_acc: 0.7403 - 494ms/epoch - 82ms/step\n",
      "Epoch 10/200\n",
      "6/6 - 0s - loss: 0.6669 - mse: 0.2369 - acc: 0.6760 - val_loss: 0.6544 - val_mse: 0.2307 - val_acc: 0.7403 - 489ms/epoch - 82ms/step\n",
      "Epoch 11/200\n",
      "6/6 - 1s - loss: 0.6644 - mse: 0.2357 - acc: 0.6760 - val_loss: 0.6512 - val_mse: 0.2291 - val_acc: 0.7403 - 500ms/epoch - 83ms/step\n",
      "Epoch 12/200\n",
      "6/6 - 1s - loss: 0.6622 - mse: 0.2346 - acc: 0.6760 - val_loss: 0.6481 - val_mse: 0.2276 - val_acc: 0.7403 - 506ms/epoch - 84ms/step\n",
      "Epoch 13/200\n",
      "6/6 - 1s - loss: 0.6600 - mse: 0.2335 - acc: 0.6760 - val_loss: 0.6453 - val_mse: 0.2261 - val_acc: 0.7403 - 511ms/epoch - 85ms/step\n",
      "Epoch 14/200\n",
      "6/6 - 1s - loss: 0.6581 - mse: 0.2326 - acc: 0.6760 - val_loss: 0.6424 - val_mse: 0.2247 - val_acc: 0.7403 - 500ms/epoch - 83ms/step\n",
      "Epoch 15/200\n",
      "6/6 - 1s - loss: 0.6561 - mse: 0.2316 - acc: 0.6760 - val_loss: 0.6396 - val_mse: 0.2234 - val_acc: 0.7403 - 501ms/epoch - 84ms/step\n",
      "Epoch 16/200\n",
      "6/6 - 0s - loss: 0.6543 - mse: 0.2307 - acc: 0.6760 - val_loss: 0.6373 - val_mse: 0.2222 - val_acc: 0.7403 - 492ms/epoch - 82ms/step\n",
      "Epoch 17/200\n",
      "6/6 - 0s - loss: 0.6527 - mse: 0.2299 - acc: 0.6760 - val_loss: 0.6350 - val_mse: 0.2211 - val_acc: 0.7403 - 498ms/epoch - 83ms/step\n",
      "Epoch 18/200\n",
      "6/6 - 0s - loss: 0.6513 - mse: 0.2292 - acc: 0.6760 - val_loss: 0.6331 - val_mse: 0.2202 - val_acc: 0.7403 - 496ms/epoch - 83ms/step\n",
      "Epoch 19/200\n",
      "6/6 - 1s - loss: 0.6500 - mse: 0.2286 - acc: 0.6760 - val_loss: 0.6311 - val_mse: 0.2192 - val_acc: 0.7403 - 501ms/epoch - 83ms/step\n",
      "Epoch 20/200\n",
      "6/6 - 0s - loss: 0.6488 - mse: 0.2280 - acc: 0.6760 - val_loss: 0.6292 - val_mse: 0.2183 - val_acc: 0.7403 - 496ms/epoch - 83ms/step\n",
      "Epoch 21/200\n",
      "6/6 - 0s - loss: 0.6476 - mse: 0.2274 - acc: 0.6760 - val_loss: 0.6275 - val_mse: 0.2175 - val_acc: 0.7403 - 499ms/epoch - 83ms/step\n",
      "Epoch 22/200\n",
      "6/6 - 1s - loss: 0.6465 - mse: 0.2269 - acc: 0.6760 - val_loss: 0.6257 - val_mse: 0.2166 - val_acc: 0.7403 - 507ms/epoch - 84ms/step\n",
      "Epoch 23/200\n",
      "6/6 - 1s - loss: 0.6454 - mse: 0.2263 - acc: 0.6760 - val_loss: 0.6240 - val_mse: 0.2157 - val_acc: 0.7403 - 500ms/epoch - 83ms/step\n",
      "Epoch 24/200\n",
      "6/6 - 0s - loss: 0.6444 - mse: 0.2259 - acc: 0.6760 - val_loss: 0.6223 - val_mse: 0.2149 - val_acc: 0.7403 - 493ms/epoch - 82ms/step\n",
      "Epoch 25/200\n",
      "6/6 - 0s - loss: 0.6434 - mse: 0.2254 - acc: 0.6760 - val_loss: 0.6207 - val_mse: 0.2141 - val_acc: 0.7403 - 495ms/epoch - 83ms/step\n",
      "Epoch 26/200\n",
      "6/6 - 0s - loss: 0.6425 - mse: 0.2249 - acc: 0.6760 - val_loss: 0.6193 - val_mse: 0.2135 - val_acc: 0.7403 - 494ms/epoch - 82ms/step\n",
      "Epoch 27/200\n",
      "6/6 - 1s - loss: 0.6416 - mse: 0.2245 - acc: 0.6760 - val_loss: 0.6181 - val_mse: 0.2129 - val_acc: 0.7403 - 507ms/epoch - 85ms/step\n",
      "Epoch 28/200\n",
      "6/6 - 0s - loss: 0.6411 - mse: 0.2243 - acc: 0.6760 - val_loss: 0.6170 - val_mse: 0.2123 - val_acc: 0.7403 - 500ms/epoch - 83ms/step\n",
      "Epoch 29/200\n",
      "6/6 - 1s - loss: 0.6404 - mse: 0.2240 - acc: 0.6760 - val_loss: 0.6159 - val_mse: 0.2118 - val_acc: 0.7403 - 503ms/epoch - 84ms/step\n",
      "Epoch 30/200\n",
      "6/6 - 1s - loss: 0.6397 - mse: 0.2236 - acc: 0.6760 - val_loss: 0.6148 - val_mse: 0.2113 - val_acc: 0.7403 - 505ms/epoch - 84ms/step\n",
      "Epoch 31/200\n",
      "6/6 - 1s - loss: 0.6392 - mse: 0.2234 - acc: 0.6760 - val_loss: 0.6139 - val_mse: 0.2109 - val_acc: 0.7403 - 507ms/epoch - 84ms/step\n",
      "Epoch 32/200\n",
      "6/6 - 1s - loss: 0.6386 - mse: 0.2231 - acc: 0.6760 - val_loss: 0.6131 - val_mse: 0.2105 - val_acc: 0.7403 - 505ms/epoch - 84ms/step\n",
      "Epoch 33/200\n",
      "6/6 - 1s - loss: 0.6383 - mse: 0.2229 - acc: 0.6760 - val_loss: 0.6123 - val_mse: 0.2101 - val_acc: 0.7403 - 505ms/epoch - 84ms/step\n",
      "Epoch 34/200\n",
      "6/6 - 1s - loss: 0.6377 - mse: 0.2227 - acc: 0.6760 - val_loss: 0.6116 - val_mse: 0.2098 - val_acc: 0.7403 - 509ms/epoch - 85ms/step\n",
      "Epoch 35/200\n",
      "6/6 - 1s - loss: 0.6374 - mse: 0.2225 - acc: 0.6760 - val_loss: 0.6108 - val_mse: 0.2094 - val_acc: 0.7403 - 505ms/epoch - 84ms/step\n",
      "Epoch 36/200\n",
      "6/6 - 1s - loss: 0.6370 - mse: 0.2223 - acc: 0.6760 - val_loss: 0.6100 - val_mse: 0.2090 - val_acc: 0.7403 - 500ms/epoch - 83ms/step\n",
      "Epoch 37/200\n",
      "6/6 - 0s - loss: 0.6366 - mse: 0.2222 - acc: 0.6760 - val_loss: 0.6092 - val_mse: 0.2086 - val_acc: 0.7403 - 497ms/epoch - 83ms/step\n",
      "Epoch 38/200\n",
      "6/6 - 0s - loss: 0.6367 - mse: 0.2222 - acc: 0.6760 - val_loss: 0.6085 - val_mse: 0.2083 - val_acc: 0.7403 - 490ms/epoch - 82ms/step\n",
      "Epoch 39/200\n",
      "6/6 - 0s - loss: 0.6361 - mse: 0.2219 - acc: 0.6760 - val_loss: 0.6077 - val_mse: 0.2079 - val_acc: 0.7403 - 497ms/epoch - 83ms/step\n",
      "Epoch 40/200\n",
      "6/6 - 1s - loss: 0.6355 - mse: 0.2216 - acc: 0.6760 - val_loss: 0.6073 - val_mse: 0.2077 - val_acc: 0.7403 - 503ms/epoch - 84ms/step\n",
      "Epoch 41/200\n",
      "6/6 - 1s - loss: 0.6354 - mse: 0.2216 - acc: 0.6760 - val_loss: 0.6069 - val_mse: 0.2075 - val_acc: 0.7403 - 501ms/epoch - 84ms/step\n",
      "Epoch 42/200\n",
      "6/6 - 0s - loss: 0.6351 - mse: 0.2215 - acc: 0.6760 - val_loss: 0.6063 - val_mse: 0.2072 - val_acc: 0.7403 - 496ms/epoch - 83ms/step\n",
      "Epoch 43/200\n",
      "6/6 - 1s - loss: 0.6349 - mse: 0.2214 - acc: 0.6760 - val_loss: 0.6058 - val_mse: 0.2070 - val_acc: 0.7403 - 510ms/epoch - 85ms/step\n",
      "Epoch 44/200\n",
      "6/6 - 0s - loss: 0.6347 - mse: 0.2212 - acc: 0.6760 - val_loss: 0.6053 - val_mse: 0.2068 - val_acc: 0.7403 - 497ms/epoch - 83ms/step\n",
      "Epoch 45/200\n",
      "6/6 - 0s - loss: 0.6345 - mse: 0.2212 - acc: 0.6760 - val_loss: 0.6050 - val_mse: 0.2066 - val_acc: 0.7403 - 499ms/epoch - 83ms/step\n",
      "Epoch 46/200\n",
      "6/6 - 0s - loss: 0.6344 - mse: 0.2211 - acc: 0.6760 - val_loss: 0.6047 - val_mse: 0.2065 - val_acc: 0.7403 - 499ms/epoch - 83ms/step\n",
      "Epoch 47/200\n",
      "6/6 - 1s - loss: 0.6342 - mse: 0.2210 - acc: 0.6760 - val_loss: 0.6043 - val_mse: 0.2063 - val_acc: 0.7403 - 516ms/epoch - 86ms/step\n",
      "Epoch 48/200\n",
      "6/6 - 1s - loss: 0.6340 - mse: 0.2209 - acc: 0.6760 - val_loss: 0.6038 - val_mse: 0.2061 - val_acc: 0.7403 - 514ms/epoch - 86ms/step\n",
      "Epoch 49/200\n",
      "6/6 - 0s - loss: 0.6340 - mse: 0.2209 - acc: 0.6760 - val_loss: 0.6033 - val_mse: 0.2058 - val_acc: 0.7403 - 494ms/epoch - 82ms/step\n",
      "Epoch 50/200\n",
      "6/6 - 0s - loss: 0.6336 - mse: 0.2207 - acc: 0.6760 - val_loss: 0.6029 - val_mse: 0.2056 - val_acc: 0.7403 - 499ms/epoch - 83ms/step\n",
      "Epoch 51/200\n",
      "6/6 - 1s - loss: 0.6335 - mse: 0.2207 - acc: 0.6760 - val_loss: 0.6026 - val_mse: 0.2055 - val_acc: 0.7403 - 506ms/epoch - 84ms/step\n",
      "Epoch 52/200\n",
      "6/6 - 1s - loss: 0.6333 - mse: 0.2206 - acc: 0.6760 - val_loss: 0.6023 - val_mse: 0.2053 - val_acc: 0.7403 - 502ms/epoch - 84ms/step\n",
      "Epoch 53/200\n",
      "6/6 - 1s - loss: 0.6331 - mse: 0.2205 - acc: 0.6760 - val_loss: 0.6018 - val_mse: 0.2051 - val_acc: 0.7403 - 511ms/epoch - 85ms/step\n",
      "Epoch 54/200\n",
      "6/6 - 1s - loss: 0.6330 - mse: 0.2205 - acc: 0.6760 - val_loss: 0.6015 - val_mse: 0.2050 - val_acc: 0.7403 - 507ms/epoch - 85ms/step\n",
      "Epoch 55/200\n",
      "6/6 - 1s - loss: 0.6331 - mse: 0.2205 - acc: 0.6760 - val_loss: 0.6012 - val_mse: 0.2048 - val_acc: 0.7403 - 509ms/epoch - 85ms/step\n",
      "Epoch 56/200\n",
      "6/6 - 1s - loss: 0.6327 - mse: 0.2203 - acc: 0.6760 - val_loss: 0.6009 - val_mse: 0.2047 - val_acc: 0.7403 - 501ms/epoch - 83ms/step\n",
      "Epoch 57/200\n",
      "6/6 - 1s - loss: 0.6326 - mse: 0.2203 - acc: 0.6760 - val_loss: 0.6006 - val_mse: 0.2045 - val_acc: 0.7403 - 512ms/epoch - 85ms/step\n"
     ]
    },
    {
     "name": "stdout",
     "output_type": "stream",
     "text": [
      "Epoch 58/200\n",
      "6/6 - 0s - loss: 0.6326 - mse: 0.2203 - acc: 0.6760 - val_loss: 0.6004 - val_mse: 0.2045 - val_acc: 0.7403 - 498ms/epoch - 83ms/step\n",
      "Epoch 59/200\n",
      "6/6 - 1s - loss: 0.6326 - mse: 0.2203 - acc: 0.6760 - val_loss: 0.6000 - val_mse: 0.2043 - val_acc: 0.7403 - 505ms/epoch - 84ms/step\n",
      "Epoch 60/200\n",
      "6/6 - 1s - loss: 0.6324 - mse: 0.2202 - acc: 0.6760 - val_loss: 0.5996 - val_mse: 0.2041 - val_acc: 0.7403 - 511ms/epoch - 85ms/step\n",
      "Epoch 61/200\n",
      "6/6 - 1s - loss: 0.6322 - mse: 0.2201 - acc: 0.6760 - val_loss: 0.5993 - val_mse: 0.2039 - val_acc: 0.7403 - 502ms/epoch - 84ms/step\n",
      "Epoch 62/200\n",
      "6/6 - 1s - loss: 0.6321 - mse: 0.2201 - acc: 0.6760 - val_loss: 0.5991 - val_mse: 0.2039 - val_acc: 0.7403 - 508ms/epoch - 85ms/step\n",
      "Epoch 63/200\n",
      "6/6 - 0s - loss: 0.6320 - mse: 0.2200 - acc: 0.6760 - val_loss: 0.5990 - val_mse: 0.2038 - val_acc: 0.7403 - 499ms/epoch - 83ms/step\n",
      "Epoch 64/200\n",
      "6/6 - 0s - loss: 0.6319 - mse: 0.2200 - acc: 0.6760 - val_loss: 0.5987 - val_mse: 0.2037 - val_acc: 0.7403 - 499ms/epoch - 83ms/step\n",
      "Epoch 65/200\n",
      "6/6 - 1s - loss: 0.6319 - mse: 0.2199 - acc: 0.6760 - val_loss: 0.5985 - val_mse: 0.2036 - val_acc: 0.7403 - 504ms/epoch - 84ms/step\n",
      "Epoch 66/200\n",
      "6/6 - 1s - loss: 0.6319 - mse: 0.2199 - acc: 0.6760 - val_loss: 0.5981 - val_mse: 0.2034 - val_acc: 0.7403 - 502ms/epoch - 84ms/step\n",
      "Epoch 67/200\n",
      "6/6 - 1s - loss: 0.6317 - mse: 0.2199 - acc: 0.6760 - val_loss: 0.5977 - val_mse: 0.2032 - val_acc: 0.7403 - 502ms/epoch - 84ms/step\n",
      "Epoch 68/200\n",
      "6/6 - 0s - loss: 0.6315 - mse: 0.2198 - acc: 0.6760 - val_loss: 0.5976 - val_mse: 0.2031 - val_acc: 0.7403 - 498ms/epoch - 83ms/step\n",
      "Epoch 69/200\n",
      "6/6 - 1s - loss: 0.6317 - mse: 0.2198 - acc: 0.6760 - val_loss: 0.5973 - val_mse: 0.2030 - val_acc: 0.7403 - 505ms/epoch - 84ms/step\n",
      "Epoch 70/200\n",
      "6/6 - 1s - loss: 0.6315 - mse: 0.2198 - acc: 0.6760 - val_loss: 0.5971 - val_mse: 0.2029 - val_acc: 0.7403 - 501ms/epoch - 83ms/step\n",
      "Epoch 71/200\n",
      "6/6 - 0s - loss: 0.6315 - mse: 0.2197 - acc: 0.6760 - val_loss: 0.5970 - val_mse: 0.2029 - val_acc: 0.7403 - 494ms/epoch - 82ms/step\n",
      "Epoch 72/200\n",
      "6/6 - 1s - loss: 0.6313 - mse: 0.2197 - acc: 0.6760 - val_loss: 0.5968 - val_mse: 0.2028 - val_acc: 0.7403 - 505ms/epoch - 84ms/step\n",
      "Epoch 73/200\n",
      "6/6 - 1s - loss: 0.6312 - mse: 0.2197 - acc: 0.6760 - val_loss: 0.5967 - val_mse: 0.2027 - val_acc: 0.7403 - 500ms/epoch - 83ms/step\n",
      "Epoch 74/200\n",
      "6/6 - 1s - loss: 0.6311 - mse: 0.2196 - acc: 0.6760 - val_loss: 0.5965 - val_mse: 0.2026 - val_acc: 0.7403 - 503ms/epoch - 84ms/step\n",
      "Epoch 75/200\n",
      "6/6 - 1s - loss: 0.6311 - mse: 0.2196 - acc: 0.6760 - val_loss: 0.5962 - val_mse: 0.2025 - val_acc: 0.7403 - 513ms/epoch - 86ms/step\n",
      "Epoch 76/200\n",
      "6/6 - 0s - loss: 0.6310 - mse: 0.2196 - acc: 0.6760 - val_loss: 0.5961 - val_mse: 0.2025 - val_acc: 0.7403 - 490ms/epoch - 82ms/step\n",
      "Epoch 77/200\n",
      "6/6 - 1s - loss: 0.6310 - mse: 0.2195 - acc: 0.6760 - val_loss: 0.5961 - val_mse: 0.2024 - val_acc: 0.7403 - 507ms/epoch - 84ms/step\n",
      "Epoch 78/200\n",
      "6/6 - 0s - loss: 0.6309 - mse: 0.2195 - acc: 0.6760 - val_loss: 0.5959 - val_mse: 0.2024 - val_acc: 0.7403 - 494ms/epoch - 82ms/step\n",
      "Epoch 79/200\n",
      "6/6 - 0s - loss: 0.6310 - mse: 0.2195 - acc: 0.6760 - val_loss: 0.5958 - val_mse: 0.2023 - val_acc: 0.7403 - 494ms/epoch - 82ms/step\n",
      "Epoch 80/200\n",
      "6/6 - 1s - loss: 0.6311 - mse: 0.2196 - acc: 0.6760 - val_loss: 0.5957 - val_mse: 0.2023 - val_acc: 0.7403 - 503ms/epoch - 84ms/step\n",
      "Epoch 81/200\n",
      "6/6 - 1s - loss: 0.6310 - mse: 0.2195 - acc: 0.6760 - val_loss: 0.5955 - val_mse: 0.2022 - val_acc: 0.7403 - 503ms/epoch - 84ms/step\n",
      "Epoch 82/200\n",
      "6/6 - 0s - loss: 0.6309 - mse: 0.2195 - acc: 0.6760 - val_loss: 0.5954 - val_mse: 0.2021 - val_acc: 0.7403 - 498ms/epoch - 83ms/step\n",
      "Epoch 83/200\n",
      "6/6 - 1s - loss: 0.6307 - mse: 0.2194 - acc: 0.6760 - val_loss: 0.5952 - val_mse: 0.2021 - val_acc: 0.7403 - 501ms/epoch - 83ms/step\n",
      "Epoch 84/200\n",
      "6/6 - 1s - loss: 0.6306 - mse: 0.2194 - acc: 0.6760 - val_loss: 0.5950 - val_mse: 0.2020 - val_acc: 0.7403 - 506ms/epoch - 84ms/step\n",
      "Epoch 85/200\n",
      "6/6 - 0s - loss: 0.6305 - mse: 0.2193 - acc: 0.6760 - val_loss: 0.5949 - val_mse: 0.2019 - val_acc: 0.7403 - 498ms/epoch - 83ms/step\n",
      "Epoch 86/200\n",
      "6/6 - 1s - loss: 0.6306 - mse: 0.2193 - acc: 0.6760 - val_loss: 0.5947 - val_mse: 0.2018 - val_acc: 0.7403 - 518ms/epoch - 86ms/step\n",
      "Epoch 87/200\n",
      "6/6 - 0s - loss: 0.6305 - mse: 0.2193 - acc: 0.6760 - val_loss: 0.5947 - val_mse: 0.2018 - val_acc: 0.7403 - 497ms/epoch - 83ms/step\n",
      "Epoch 88/200\n",
      "6/6 - 0s - loss: 0.6305 - mse: 0.2193 - acc: 0.6760 - val_loss: 0.5947 - val_mse: 0.2018 - val_acc: 0.7403 - 496ms/epoch - 83ms/step\n",
      "Epoch 89/200\n",
      "6/6 - 1s - loss: 0.6304 - mse: 0.2193 - acc: 0.6760 - val_loss: 0.5945 - val_mse: 0.2017 - val_acc: 0.7403 - 504ms/epoch - 84ms/step\n",
      "Epoch 90/200\n",
      "6/6 - 1s - loss: 0.6303 - mse: 0.2192 - acc: 0.6760 - val_loss: 0.5943 - val_mse: 0.2016 - val_acc: 0.7403 - 509ms/epoch - 85ms/step\n",
      "Epoch 91/200\n",
      "6/6 - 1s - loss: 0.6303 - mse: 0.2192 - acc: 0.6760 - val_loss: 0.5941 - val_mse: 0.2015 - val_acc: 0.7403 - 503ms/epoch - 84ms/step\n",
      "Epoch 92/200\n",
      "6/6 - 1s - loss: 0.6302 - mse: 0.2192 - acc: 0.6760 - val_loss: 0.5940 - val_mse: 0.2015 - val_acc: 0.7403 - 506ms/epoch - 84ms/step\n",
      "Epoch 93/200\n",
      "6/6 - 1s - loss: 0.6301 - mse: 0.2191 - acc: 0.6760 - val_loss: 0.5938 - val_mse: 0.2014 - val_acc: 0.7403 - 510ms/epoch - 85ms/step\n",
      "Epoch 94/200\n",
      "6/6 - 0s - loss: 0.6300 - mse: 0.2191 - acc: 0.6760 - val_loss: 0.5936 - val_mse: 0.2013 - val_acc: 0.7403 - 498ms/epoch - 83ms/step\n",
      "Epoch 95/200\n",
      "6/6 - 1s - loss: 0.6301 - mse: 0.2192 - acc: 0.6760 - val_loss: 0.5934 - val_mse: 0.2012 - val_acc: 0.7403 - 501ms/epoch - 84ms/step\n",
      "Epoch 96/200\n",
      "6/6 - 0s - loss: 0.6299 - mse: 0.2191 - acc: 0.6760 - val_loss: 0.5933 - val_mse: 0.2012 - val_acc: 0.7403 - 498ms/epoch - 83ms/step\n",
      "Epoch 97/200\n",
      "6/6 - 1s - loss: 0.6300 - mse: 0.2191 - acc: 0.6760 - val_loss: 0.5932 - val_mse: 0.2012 - val_acc: 0.7403 - 502ms/epoch - 84ms/step\n",
      "Epoch 98/200\n",
      "6/6 - 1s - loss: 0.6298 - mse: 0.2190 - acc: 0.6760 - val_loss: 0.5932 - val_mse: 0.2011 - val_acc: 0.7403 - 503ms/epoch - 84ms/step\n",
      "Epoch 99/200\n",
      "6/6 - 0s - loss: 0.6298 - mse: 0.2190 - acc: 0.6760 - val_loss: 0.5931 - val_mse: 0.2011 - val_acc: 0.7403 - 498ms/epoch - 83ms/step\n",
      "Epoch 100/200\n",
      "6/6 - 1s - loss: 0.6299 - mse: 0.2191 - acc: 0.6760 - val_loss: 0.5930 - val_mse: 0.2010 - val_acc: 0.7403 - 511ms/epoch - 85ms/step\n",
      "Epoch 101/200\n",
      "6/6 - 1s - loss: 0.6297 - mse: 0.2190 - acc: 0.6760 - val_loss: 0.5929 - val_mse: 0.2010 - val_acc: 0.7403 - 501ms/epoch - 83ms/step\n",
      "Epoch 102/200\n",
      "6/6 - 0s - loss: 0.6298 - mse: 0.2190 - acc: 0.6760 - val_loss: 0.5929 - val_mse: 0.2010 - val_acc: 0.7403 - 499ms/epoch - 83ms/step\n",
      "Epoch 103/200\n",
      "6/6 - 1s - loss: 0.6296 - mse: 0.2189 - acc: 0.6760 - val_loss: 0.5927 - val_mse: 0.2009 - val_acc: 0.7403 - 503ms/epoch - 84ms/step\n",
      "Epoch 104/200\n",
      "6/6 - 1s - loss: 0.6298 - mse: 0.2190 - acc: 0.6760 - val_loss: 0.5926 - val_mse: 0.2008 - val_acc: 0.7403 - 501ms/epoch - 84ms/step\n",
      "Epoch 105/200\n",
      "6/6 - 1s - loss: 0.6296 - mse: 0.2189 - acc: 0.6760 - val_loss: 0.5924 - val_mse: 0.2008 - val_acc: 0.7403 - 503ms/epoch - 84ms/step\n",
      "Epoch 106/200\n",
      "6/6 - 0s - loss: 0.6296 - mse: 0.2189 - acc: 0.6760 - val_loss: 0.5923 - val_mse: 0.2007 - val_acc: 0.7403 - 495ms/epoch - 82ms/step\n",
      "Epoch 107/200\n",
      "6/6 - 1s - loss: 0.6296 - mse: 0.2189 - acc: 0.6760 - val_loss: 0.5923 - val_mse: 0.2007 - val_acc: 0.7403 - 506ms/epoch - 84ms/step\n",
      "Epoch 108/200\n",
      "6/6 - 0s - loss: 0.6294 - mse: 0.2188 - acc: 0.6760 - val_loss: 0.5922 - val_mse: 0.2007 - val_acc: 0.7403 - 499ms/epoch - 83ms/step\n",
      "Epoch 109/200\n",
      "6/6 - 1s - loss: 0.6294 - mse: 0.2188 - acc: 0.6760 - val_loss: 0.5921 - val_mse: 0.2006 - val_acc: 0.7403 - 505ms/epoch - 84ms/step\n",
      "Epoch 110/200\n",
      "6/6 - 1s - loss: 0.6293 - mse: 0.2188 - acc: 0.6760 - val_loss: 0.5920 - val_mse: 0.2006 - val_acc: 0.7403 - 502ms/epoch - 84ms/step\n",
      "Epoch 111/200\n",
      "6/6 - 1s - loss: 0.6294 - mse: 0.2188 - acc: 0.6760 - val_loss: 0.5919 - val_mse: 0.2005 - val_acc: 0.7403 - 519ms/epoch - 86ms/step\n",
      "Epoch 112/200\n",
      "6/6 - 1s - loss: 0.6292 - mse: 0.2188 - acc: 0.6760 - val_loss: 0.5918 - val_mse: 0.2005 - val_acc: 0.7403 - 502ms/epoch - 84ms/step\n",
      "Epoch 113/200\n",
      "6/6 - 1s - loss: 0.6292 - mse: 0.2187 - acc: 0.6760 - val_loss: 0.5917 - val_mse: 0.2005 - val_acc: 0.7403 - 500ms/epoch - 83ms/step\n",
      "Epoch 114/200\n"
     ]
    },
    {
     "name": "stdout",
     "output_type": "stream",
     "text": [
      "6/6 - 0s - loss: 0.6294 - mse: 0.2188 - acc: 0.6760 - val_loss: 0.5917 - val_mse: 0.2005 - val_acc: 0.7403 - 490ms/epoch - 82ms/step\n",
      "Epoch 115/200\n",
      "6/6 - 1s - loss: 0.6294 - mse: 0.2188 - acc: 0.6760 - val_loss: 0.5915 - val_mse: 0.2004 - val_acc: 0.7403 - 514ms/epoch - 86ms/step\n",
      "Epoch 116/200\n",
      "6/6 - 1s - loss: 0.6291 - mse: 0.2187 - acc: 0.6760 - val_loss: 0.5914 - val_mse: 0.2003 - val_acc: 0.7403 - 506ms/epoch - 84ms/step\n",
      "Epoch 117/200\n",
      "6/6 - 1s - loss: 0.6291 - mse: 0.2187 - acc: 0.6760 - val_loss: 0.5914 - val_mse: 0.2003 - val_acc: 0.7403 - 509ms/epoch - 85ms/step\n",
      "Epoch 118/200\n",
      "6/6 - 1s - loss: 0.6290 - mse: 0.2187 - acc: 0.6760 - val_loss: 0.5912 - val_mse: 0.2002 - val_acc: 0.7403 - 513ms/epoch - 85ms/step\n",
      "Epoch 119/200\n",
      "6/6 - 1s - loss: 0.6290 - mse: 0.2186 - acc: 0.6760 - val_loss: 0.5910 - val_mse: 0.2002 - val_acc: 0.7403 - 508ms/epoch - 85ms/step\n",
      "Epoch 120/200\n",
      "6/6 - 1s - loss: 0.6290 - mse: 0.2186 - acc: 0.6760 - val_loss: 0.5910 - val_mse: 0.2001 - val_acc: 0.7403 - 509ms/epoch - 85ms/step\n",
      "Epoch 121/200\n",
      "6/6 - 1s - loss: 0.6289 - mse: 0.2186 - acc: 0.6760 - val_loss: 0.5909 - val_mse: 0.2001 - val_acc: 0.7403 - 502ms/epoch - 84ms/step\n",
      "Epoch 122/200\n",
      "6/6 - 1s - loss: 0.6289 - mse: 0.2186 - acc: 0.6760 - val_loss: 0.5908 - val_mse: 0.2001 - val_acc: 0.7403 - 503ms/epoch - 84ms/step\n",
      "Epoch 123/200\n",
      "6/6 - 1s - loss: 0.6289 - mse: 0.2186 - acc: 0.6760 - val_loss: 0.5909 - val_mse: 0.2001 - val_acc: 0.7403 - 509ms/epoch - 85ms/step\n",
      "Epoch 124/200\n",
      "6/6 - 0s - loss: 0.6289 - mse: 0.2186 - acc: 0.6760 - val_loss: 0.5909 - val_mse: 0.2001 - val_acc: 0.7403 - 498ms/epoch - 83ms/step\n",
      "Epoch 125/200\n",
      "6/6 - 1s - loss: 0.6289 - mse: 0.2186 - acc: 0.6760 - val_loss: 0.5908 - val_mse: 0.2000 - val_acc: 0.7403 - 504ms/epoch - 84ms/step\n",
      "Epoch 126/200\n",
      "6/6 - 1s - loss: 0.6288 - mse: 0.2185 - acc: 0.6760 - val_loss: 0.5906 - val_mse: 0.2000 - val_acc: 0.7403 - 519ms/epoch - 86ms/step\n",
      "Epoch 127/200\n",
      "6/6 - 1s - loss: 0.6287 - mse: 0.2185 - acc: 0.6760 - val_loss: 0.5905 - val_mse: 0.1999 - val_acc: 0.7403 - 502ms/epoch - 84ms/step\n",
      "Epoch 128/200\n",
      "6/6 - 1s - loss: 0.6287 - mse: 0.2185 - acc: 0.6760 - val_loss: 0.5905 - val_mse: 0.1999 - val_acc: 0.7403 - 510ms/epoch - 85ms/step\n",
      "Epoch 129/200\n",
      "6/6 - 1s - loss: 0.6287 - mse: 0.2185 - acc: 0.6760 - val_loss: 0.5905 - val_mse: 0.1999 - val_acc: 0.7403 - 504ms/epoch - 84ms/step\n",
      "Epoch 130/200\n",
      "6/6 - 1s - loss: 0.6286 - mse: 0.2185 - acc: 0.6760 - val_loss: 0.5904 - val_mse: 0.1999 - val_acc: 0.7403 - 514ms/epoch - 86ms/step\n",
      "Epoch 131/200\n",
      "6/6 - 1s - loss: 0.6285 - mse: 0.2184 - acc: 0.6760 - val_loss: 0.5903 - val_mse: 0.1998 - val_acc: 0.7403 - 501ms/epoch - 84ms/step\n",
      "Epoch 132/200\n",
      "6/6 - 1s - loss: 0.6286 - mse: 0.2185 - acc: 0.6760 - val_loss: 0.5903 - val_mse: 0.1998 - val_acc: 0.7403 - 507ms/epoch - 85ms/step\n",
      "Epoch 133/200\n",
      "6/6 - 1s - loss: 0.6285 - mse: 0.2184 - acc: 0.6760 - val_loss: 0.5901 - val_mse: 0.1998 - val_acc: 0.7403 - 508ms/epoch - 85ms/step\n",
      "Epoch 134/200\n",
      "6/6 - 0s - loss: 0.6284 - mse: 0.2184 - acc: 0.6760 - val_loss: 0.5900 - val_mse: 0.1997 - val_acc: 0.7403 - 498ms/epoch - 83ms/step\n",
      "Epoch 135/200\n",
      "6/6 - 0s - loss: 0.6284 - mse: 0.2184 - acc: 0.6760 - val_loss: 0.5899 - val_mse: 0.1997 - val_acc: 0.7403 - 495ms/epoch - 82ms/step\n",
      "Epoch 136/200\n",
      "6/6 - 1s - loss: 0.6284 - mse: 0.2184 - acc: 0.6760 - val_loss: 0.5898 - val_mse: 0.1996 - val_acc: 0.7403 - 506ms/epoch - 84ms/step\n",
      "Epoch 137/200\n",
      "6/6 - 0s - loss: 0.6284 - mse: 0.2184 - acc: 0.6760 - val_loss: 0.5899 - val_mse: 0.1997 - val_acc: 0.7403 - 485ms/epoch - 81ms/step\n",
      "Epoch 138/200\n",
      "6/6 - 1s - loss: 0.6283 - mse: 0.2183 - acc: 0.6760 - val_loss: 0.5898 - val_mse: 0.1996 - val_acc: 0.7403 - 501ms/epoch - 84ms/step\n",
      "Epoch 139/200\n",
      "6/6 - 0s - loss: 0.6283 - mse: 0.2183 - acc: 0.6760 - val_loss: 0.5897 - val_mse: 0.1996 - val_acc: 0.7403 - 498ms/epoch - 83ms/step\n",
      "Epoch 140/200\n",
      "6/6 - 1s - loss: 0.6283 - mse: 0.2183 - acc: 0.6760 - val_loss: 0.5895 - val_mse: 0.1995 - val_acc: 0.7403 - 508ms/epoch - 85ms/step\n",
      "Epoch 141/200\n",
      "6/6 - 1s - loss: 0.6282 - mse: 0.2183 - acc: 0.6760 - val_loss: 0.5895 - val_mse: 0.1995 - val_acc: 0.7403 - 512ms/epoch - 85ms/step\n",
      "Epoch 142/200\n",
      "6/6 - 1s - loss: 0.6283 - mse: 0.2183 - acc: 0.6760 - val_loss: 0.5894 - val_mse: 0.1994 - val_acc: 0.7403 - 509ms/epoch - 85ms/step\n",
      "Epoch 143/200\n",
      "6/6 - 1s - loss: 0.6281 - mse: 0.2183 - acc: 0.6760 - val_loss: 0.5893 - val_mse: 0.1994 - val_acc: 0.7403 - 513ms/epoch - 85ms/step\n",
      "Epoch 144/200\n",
      "6/6 - 0s - loss: 0.6281 - mse: 0.2183 - acc: 0.6760 - val_loss: 0.5892 - val_mse: 0.1993 - val_acc: 0.7403 - 493ms/epoch - 82ms/step\n",
      "Epoch 145/200\n",
      "6/6 - 0s - loss: 0.6281 - mse: 0.2183 - acc: 0.6760 - val_loss: 0.5892 - val_mse: 0.1993 - val_acc: 0.7403 - 499ms/epoch - 83ms/step\n",
      "Epoch 146/200\n",
      "6/6 - 1s - loss: 0.6280 - mse: 0.2182 - acc: 0.6760 - val_loss: 0.5891 - val_mse: 0.1993 - val_acc: 0.7403 - 514ms/epoch - 86ms/step\n",
      "Epoch 147/200\n",
      "6/6 - 1s - loss: 0.6280 - mse: 0.2182 - acc: 0.6760 - val_loss: 0.5890 - val_mse: 0.1993 - val_acc: 0.7403 - 511ms/epoch - 85ms/step\n",
      "Epoch 148/200\n",
      "6/6 - 0s - loss: 0.6280 - mse: 0.2182 - acc: 0.6760 - val_loss: 0.5890 - val_mse: 0.1992 - val_acc: 0.7403 - 499ms/epoch - 83ms/step\n",
      "Epoch 149/200\n",
      "6/6 - 1s - loss: 0.6279 - mse: 0.2182 - acc: 0.6760 - val_loss: 0.5889 - val_mse: 0.1992 - val_acc: 0.7403 - 506ms/epoch - 84ms/step\n",
      "Epoch 150/200\n",
      "6/6 - 1s - loss: 0.6279 - mse: 0.2182 - acc: 0.6760 - val_loss: 0.5889 - val_mse: 0.1992 - val_acc: 0.7403 - 505ms/epoch - 84ms/step\n",
      "Epoch 151/200\n",
      "6/6 - 1s - loss: 0.6279 - mse: 0.2182 - acc: 0.6760 - val_loss: 0.5888 - val_mse: 0.1992 - val_acc: 0.7403 - 509ms/epoch - 85ms/step\n",
      "Epoch 152/200\n",
      "6/6 - 1s - loss: 0.6278 - mse: 0.2181 - acc: 0.6760 - val_loss: 0.5888 - val_mse: 0.1992 - val_acc: 0.7403 - 501ms/epoch - 83ms/step\n",
      "Epoch 153/200\n",
      "6/6 - 1s - loss: 0.6280 - mse: 0.2182 - acc: 0.6760 - val_loss: 0.5888 - val_mse: 0.1992 - val_acc: 0.7403 - 506ms/epoch - 84ms/step\n",
      "Epoch 154/200\n",
      "6/6 - 1s - loss: 0.6278 - mse: 0.2181 - acc: 0.6760 - val_loss: 0.5888 - val_mse: 0.1992 - val_acc: 0.7403 - 508ms/epoch - 85ms/step\n",
      "Epoch 155/200\n",
      "6/6 - 1s - loss: 0.6279 - mse: 0.2182 - acc: 0.6760 - val_loss: 0.5887 - val_mse: 0.1991 - val_acc: 0.7403 - 504ms/epoch - 84ms/step\n",
      "Epoch 156/200\n",
      "6/6 - 0s - loss: 0.6277 - mse: 0.2181 - acc: 0.6760 - val_loss: 0.5886 - val_mse: 0.1991 - val_acc: 0.7403 - 496ms/epoch - 83ms/step\n",
      "Epoch 157/200\n",
      "6/6 - 1s - loss: 0.6277 - mse: 0.2181 - acc: 0.6760 - val_loss: 0.5886 - val_mse: 0.1991 - val_acc: 0.7403 - 502ms/epoch - 84ms/step\n",
      "Epoch 158/200\n",
      "6/6 - 0s - loss: 0.6276 - mse: 0.2180 - acc: 0.6760 - val_loss: 0.5885 - val_mse: 0.1990 - val_acc: 0.7403 - 499ms/epoch - 83ms/step\n",
      "Epoch 159/200\n",
      "6/6 - 1s - loss: 0.6276 - mse: 0.2180 - acc: 0.6760 - val_loss: 0.5884 - val_mse: 0.1990 - val_acc: 0.7403 - 507ms/epoch - 84ms/step\n",
      "Epoch 160/200\n",
      "6/6 - 1s - loss: 0.6276 - mse: 0.2180 - acc: 0.6760 - val_loss: 0.5884 - val_mse: 0.1990 - val_acc: 0.7403 - 530ms/epoch - 88ms/step\n",
      "Epoch 161/200\n",
      "6/6 - 1s - loss: 0.6276 - mse: 0.2180 - acc: 0.6760 - val_loss: 0.5884 - val_mse: 0.1990 - val_acc: 0.7403 - 510ms/epoch - 85ms/step\n",
      "Epoch 162/200\n",
      "6/6 - 1s - loss: 0.6276 - mse: 0.2180 - acc: 0.6760 - val_loss: 0.5884 - val_mse: 0.1990 - val_acc: 0.7403 - 524ms/epoch - 87ms/step\n",
      "Epoch 163/200\n",
      "6/6 - 1s - loss: 0.6275 - mse: 0.2180 - acc: 0.6760 - val_loss: 0.5883 - val_mse: 0.1990 - val_acc: 0.7403 - 505ms/epoch - 84ms/step\n",
      "Epoch 164/200\n",
      "6/6 - 0s - loss: 0.6275 - mse: 0.2180 - acc: 0.6760 - val_loss: 0.5883 - val_mse: 0.1990 - val_acc: 0.7403 - 494ms/epoch - 82ms/step\n",
      "Epoch 165/200\n",
      "6/6 - 1s - loss: 0.6274 - mse: 0.2180 - acc: 0.6760 - val_loss: 0.5882 - val_mse: 0.1989 - val_acc: 0.7403 - 518ms/epoch - 86ms/step\n",
      "Epoch 166/200\n",
      "6/6 - 1s - loss: 0.6275 - mse: 0.2180 - acc: 0.6760 - val_loss: 0.5882 - val_mse: 0.1989 - val_acc: 0.7403 - 562ms/epoch - 94ms/step\n",
      "Epoch 167/200\n",
      "6/6 - 1s - loss: 0.6274 - mse: 0.2179 - acc: 0.6760 - val_loss: 0.5881 - val_mse: 0.1989 - val_acc: 0.7403 - 519ms/epoch - 87ms/step\n",
      "Epoch 168/200\n",
      "6/6 - 1s - loss: 0.6276 - mse: 0.2180 - acc: 0.6760 - val_loss: 0.5883 - val_mse: 0.1989 - val_acc: 0.7403 - 506ms/epoch - 84ms/step\n",
      "Epoch 169/200\n",
      "6/6 - 1s - loss: 0.6274 - mse: 0.2179 - acc: 0.6760 - val_loss: 0.5882 - val_mse: 0.1989 - val_acc: 0.7403 - 518ms/epoch - 86ms/step\n"
     ]
    },
    {
     "name": "stdout",
     "output_type": "stream",
     "text": [
      "Epoch 170/200\n",
      "6/6 - 1s - loss: 0.6273 - mse: 0.2179 - acc: 0.6760 - val_loss: 0.5881 - val_mse: 0.1988 - val_acc: 0.7403 - 511ms/epoch - 85ms/step\n",
      "Epoch 171/200\n",
      "6/6 - 1s - loss: 0.6274 - mse: 0.2179 - acc: 0.6760 - val_loss: 0.5879 - val_mse: 0.1988 - val_acc: 0.7403 - 513ms/epoch - 85ms/step\n",
      "Epoch 172/200\n",
      "6/6 - 1s - loss: 0.6272 - mse: 0.2179 - acc: 0.6760 - val_loss: 0.5878 - val_mse: 0.1987 - val_acc: 0.7403 - 518ms/epoch - 86ms/step\n",
      "Epoch 173/200\n",
      "6/6 - 1s - loss: 0.6273 - mse: 0.2179 - acc: 0.6760 - val_loss: 0.5878 - val_mse: 0.1987 - val_acc: 0.7403 - 525ms/epoch - 87ms/step\n",
      "Epoch 174/200\n",
      "6/6 - 1s - loss: 0.6273 - mse: 0.2179 - acc: 0.6760 - val_loss: 0.5879 - val_mse: 0.1988 - val_acc: 0.7403 - 503ms/epoch - 84ms/step\n",
      "Epoch 175/200\n",
      "6/6 - 1s - loss: 0.6272 - mse: 0.2178 - acc: 0.6760 - val_loss: 0.5879 - val_mse: 0.1988 - val_acc: 0.7403 - 527ms/epoch - 88ms/step\n",
      "Epoch 176/200\n",
      "6/6 - 0s - loss: 0.6271 - mse: 0.2178 - acc: 0.6760 - val_loss: 0.5878 - val_mse: 0.1987 - val_acc: 0.7403 - 493ms/epoch - 82ms/step\n",
      "Epoch 177/200\n",
      "6/6 - 1s - loss: 0.6271 - mse: 0.2178 - acc: 0.6760 - val_loss: 0.5876 - val_mse: 0.1987 - val_acc: 0.7403 - 505ms/epoch - 84ms/step\n",
      "Epoch 178/200\n",
      "6/6 - 1s - loss: 0.6271 - mse: 0.2178 - acc: 0.6760 - val_loss: 0.5876 - val_mse: 0.1986 - val_acc: 0.7403 - 523ms/epoch - 87ms/step\n",
      "Epoch 179/200\n",
      "6/6 - 1s - loss: 0.6271 - mse: 0.2178 - acc: 0.6760 - val_loss: 0.5875 - val_mse: 0.1986 - val_acc: 0.7403 - 514ms/epoch - 86ms/step\n",
      "Epoch 180/200\n",
      "6/6 - 1s - loss: 0.6270 - mse: 0.2177 - acc: 0.6760 - val_loss: 0.5875 - val_mse: 0.1986 - val_acc: 0.7403 - 559ms/epoch - 93ms/step\n",
      "Epoch 181/200\n",
      "6/6 - 1s - loss: 0.6271 - mse: 0.2178 - acc: 0.6760 - val_loss: 0.5873 - val_mse: 0.1985 - val_acc: 0.7403 - 517ms/epoch - 86ms/step\n",
      "Epoch 182/200\n",
      "6/6 - 1s - loss: 0.6270 - mse: 0.2178 - acc: 0.6760 - val_loss: 0.5874 - val_mse: 0.1985 - val_acc: 0.7403 - 525ms/epoch - 87ms/step\n",
      "Epoch 183/200\n",
      "6/6 - 1s - loss: 0.6270 - mse: 0.2178 - acc: 0.6760 - val_loss: 0.5873 - val_mse: 0.1985 - val_acc: 0.7403 - 525ms/epoch - 88ms/step\n",
      "Epoch 184/200\n",
      "6/6 - 1s - loss: 0.6269 - mse: 0.2177 - acc: 0.6760 - val_loss: 0.5872 - val_mse: 0.1985 - val_acc: 0.7403 - 532ms/epoch - 89ms/step\n",
      "Epoch 185/200\n",
      "6/6 - 1s - loss: 0.6269 - mse: 0.2177 - acc: 0.6760 - val_loss: 0.5872 - val_mse: 0.1985 - val_acc: 0.7403 - 512ms/epoch - 85ms/step\n",
      "Epoch 186/200\n",
      "6/6 - 1s - loss: 0.6268 - mse: 0.2177 - acc: 0.6760 - val_loss: 0.5872 - val_mse: 0.1984 - val_acc: 0.7403 - 532ms/epoch - 89ms/step\n",
      "Epoch 187/200\n",
      "6/6 - 1s - loss: 0.6268 - mse: 0.2177 - acc: 0.6760 - val_loss: 0.5871 - val_mse: 0.1984 - val_acc: 0.7403 - 503ms/epoch - 84ms/step\n",
      "Epoch 188/200\n",
      "6/6 - 1s - loss: 0.6268 - mse: 0.2177 - acc: 0.6760 - val_loss: 0.5870 - val_mse: 0.1984 - val_acc: 0.7403 - 525ms/epoch - 88ms/step\n",
      "Epoch 189/200\n",
      "6/6 - 1s - loss: 0.6268 - mse: 0.2177 - acc: 0.6760 - val_loss: 0.5870 - val_mse: 0.1984 - val_acc: 0.7403 - 512ms/epoch - 85ms/step\n",
      "Epoch 190/200\n",
      "6/6 - 1s - loss: 0.6267 - mse: 0.2176 - acc: 0.6760 - val_loss: 0.5870 - val_mse: 0.1984 - val_acc: 0.7403 - 534ms/epoch - 89ms/step\n",
      "Epoch 191/200\n",
      "6/6 - 1s - loss: 0.6267 - mse: 0.2176 - acc: 0.6760 - val_loss: 0.5869 - val_mse: 0.1983 - val_acc: 0.7403 - 513ms/epoch - 85ms/step\n",
      "Epoch 192/200\n",
      "6/6 - 0s - loss: 0.6266 - mse: 0.2176 - acc: 0.6760 - val_loss: 0.5867 - val_mse: 0.1983 - val_acc: 0.7403 - 497ms/epoch - 83ms/step\n",
      "Epoch 193/200\n",
      "6/6 - 1s - loss: 0.6266 - mse: 0.2176 - acc: 0.6760 - val_loss: 0.5867 - val_mse: 0.1982 - val_acc: 0.7403 - 501ms/epoch - 84ms/step\n",
      "Epoch 194/200\n",
      "6/6 - 0s - loss: 0.6267 - mse: 0.2176 - acc: 0.6760 - val_loss: 0.5867 - val_mse: 0.1982 - val_acc: 0.7403 - 495ms/epoch - 82ms/step\n",
      "Epoch 195/200\n",
      "6/6 - 1s - loss: 0.6266 - mse: 0.2176 - acc: 0.6760 - val_loss: 0.5866 - val_mse: 0.1982 - val_acc: 0.7403 - 512ms/epoch - 85ms/step\n",
      "Epoch 196/200\n",
      "6/6 - 1s - loss: 0.6265 - mse: 0.2175 - acc: 0.6760 - val_loss: 0.5865 - val_mse: 0.1981 - val_acc: 0.7403 - 531ms/epoch - 88ms/step\n",
      "Epoch 197/200\n",
      "6/6 - 1s - loss: 0.6264 - mse: 0.2175 - acc: 0.6760 - val_loss: 0.5865 - val_mse: 0.1981 - val_acc: 0.7403 - 504ms/epoch - 84ms/step\n",
      "Epoch 198/200\n",
      "6/6 - 0s - loss: 0.6264 - mse: 0.2175 - acc: 0.6760 - val_loss: 0.5864 - val_mse: 0.1981 - val_acc: 0.7403 - 498ms/epoch - 83ms/step\n",
      "Epoch 199/200\n",
      "6/6 - 0s - loss: 0.6264 - mse: 0.2175 - acc: 0.6760 - val_loss: 0.5864 - val_mse: 0.1981 - val_acc: 0.7403 - 498ms/epoch - 83ms/step\n",
      "Epoch 200/200\n",
      "6/6 - 1s - loss: 0.6263 - mse: 0.2175 - acc: 0.6760 - val_loss: 0.5864 - val_mse: 0.1981 - val_acc: 0.7403 - 506ms/epoch - 84ms/step\n"
     ]
    },
    {
     "data": {
      "text/plain": [
       "<keras.callbacks.History at 0x7fa73870aaa0>"
      ]
     },
     "execution_count": 41,
     "metadata": {},
     "output_type": "execute_result"
    }
   ],
   "source": [
    "model.fit(X, y, validation_split=0.3, epochs=200, verbose=2)"
   ]
  },
  {
   "cell_type": "code",
   "execution_count": 42,
   "id": "3e045940",
   "metadata": {
    "scrolled": true
   },
   "outputs": [
    {
     "name": "stdout",
     "output_type": "stream",
     "text": [
      "10/10 - 0s - 333ms/epoch - 33ms/step\n",
      "              precision    recall  f1-score   support\n",
      "\n",
      "           0       0.71      1.00      0.83       209\n",
      "           1       0.00      0.00      0.00        84\n",
      "\n",
      "    accuracy                           0.71       293\n",
      "   macro avg       0.36      0.50      0.42       293\n",
      "weighted avg       0.51      0.71      0.59       293\n",
      "\n"
     ]
    },
    {
     "name": "stderr",
     "output_type": "stream",
     "text": [
      "/home/minhphuong/anaconda3/lib/python3.10/site-packages/sklearn/metrics/_classification.py:1344: UndefinedMetricWarning: Precision and F-score are ill-defined and being set to 0.0 in labels with no predicted samples. Use `zero_division` parameter to control this behavior.\n",
      "  _warn_prf(average, modifier, msg_start, len(result))\n",
      "/home/minhphuong/anaconda3/lib/python3.10/site-packages/sklearn/metrics/_classification.py:1344: UndefinedMetricWarning: Precision and F-score are ill-defined and being set to 0.0 in labels with no predicted samples. Use `zero_division` parameter to control this behavior.\n",
      "  _warn_prf(average, modifier, msg_start, len(result))\n",
      "/home/minhphuong/anaconda3/lib/python3.10/site-packages/sklearn/metrics/_classification.py:1344: UndefinedMetricWarning: Precision and F-score are ill-defined and being set to 0.0 in labels with no predicted samples. Use `zero_division` parameter to control this behavior.\n",
      "  _warn_prf(average, modifier, msg_start, len(result))\n"
     ]
    }
   ],
   "source": [
    "y_pred = model.predict(X_test, verbose=2)\n",
    "y_pred_bool = np.argmax(y_pred, axis=1)\n",
    "\n",
    "print(classification_report(y_test, y_pred_bool))"
   ]
  },
  {
   "cell_type": "code",
   "execution_count": 43,
   "id": "54607241",
   "metadata": {},
   "outputs": [
    {
     "data": {
      "text/plain": [
       "(293, 21201, 100)"
      ]
     },
     "execution_count": 43,
     "metadata": {},
     "output_type": "execute_result"
    }
   ],
   "source": [
    "X_test.shape"
   ]
  },
  {
   "cell_type": "code",
   "execution_count": 44,
   "id": "8d4e8186",
   "metadata": {},
   "outputs": [
    {
     "name": "stderr",
     "output_type": "stream",
     "text": [
      "2023-06-04 15:04:33.761122: I tensorflow/core/common_runtime/executor.cc:1197] [/device:CPU:0] (DEBUG INFO) Executor start aborting (this does not indicate an error and you can ignore this message): INVALID_ARGUMENT: You must feed a value for placeholder tensor 'gradients/split_2_grad/concat/split_2/split_dim' with dtype int32\n",
      "\t [[{{node gradients/split_2_grad/concat/split_2/split_dim}}]]\n",
      "2023-06-04 15:04:33.761611: I tensorflow/core/common_runtime/executor.cc:1197] [/device:CPU:0] (DEBUG INFO) Executor start aborting (this does not indicate an error and you can ignore this message): INVALID_ARGUMENT: You must feed a value for placeholder tensor 'gradients/split_grad/concat/split/split_dim' with dtype int32\n",
      "\t [[{{node gradients/split_grad/concat/split/split_dim}}]]\n",
      "2023-06-04 15:04:33.762121: I tensorflow/core/common_runtime/executor.cc:1197] [/device:CPU:0] (DEBUG INFO) Executor start aborting (this does not indicate an error and you can ignore this message): INVALID_ARGUMENT: You must feed a value for placeholder tensor 'gradients/split_1_grad/concat/split_1/split_dim' with dtype int32\n",
      "\t [[{{node gradients/split_1_grad/concat/split_1/split_dim}}]]\n",
      "2023-06-04 15:04:33.840361: I tensorflow/core/common_runtime/executor.cc:1197] [/device:CPU:0] (DEBUG INFO) Executor start aborting (this does not indicate an error and you can ignore this message): INVALID_ARGUMENT: You must feed a value for placeholder tensor 'gradients/split_2_grad/concat/split_2/split_dim' with dtype int32\n",
      "\t [[{{node gradients/split_2_grad/concat/split_2/split_dim}}]]\n",
      "2023-06-04 15:04:33.840859: I tensorflow/core/common_runtime/executor.cc:1197] [/device:CPU:0] (DEBUG INFO) Executor start aborting (this does not indicate an error and you can ignore this message): INVALID_ARGUMENT: You must feed a value for placeholder tensor 'gradients/split_grad/concat/split/split_dim' with dtype int32\n",
      "\t [[{{node gradients/split_grad/concat/split/split_dim}}]]\n",
      "2023-06-04 15:04:33.841311: I tensorflow/core/common_runtime/executor.cc:1197] [/device:CPU:0] (DEBUG INFO) Executor start aborting (this does not indicate an error and you can ignore this message): INVALID_ARGUMENT: You must feed a value for placeholder tensor 'gradients/split_1_grad/concat/split_1/split_dim' with dtype int32\n",
      "\t [[{{node gradients/split_1_grad/concat/split_1/split_dim}}]]\n",
      "2023-06-04 15:04:33.917718: I tensorflow/core/common_runtime/executor.cc:1197] [/device:CPU:0] (DEBUG INFO) Executor start aborting (this does not indicate an error and you can ignore this message): INVALID_ARGUMENT: You must feed a value for placeholder tensor 'gradients/split_2_grad/concat/split_2/split_dim' with dtype int32\n",
      "\t [[{{node gradients/split_2_grad/concat/split_2/split_dim}}]]\n",
      "2023-06-04 15:04:33.918238: I tensorflow/core/common_runtime/executor.cc:1197] [/device:CPU:0] (DEBUG INFO) Executor start aborting (this does not indicate an error and you can ignore this message): INVALID_ARGUMENT: You must feed a value for placeholder tensor 'gradients/split_grad/concat/split/split_dim' with dtype int32\n",
      "\t [[{{node gradients/split_grad/concat/split/split_dim}}]]\n",
      "2023-06-04 15:04:33.918671: I tensorflow/core/common_runtime/executor.cc:1197] [/device:CPU:0] (DEBUG INFO) Executor start aborting (this does not indicate an error and you can ignore this message): INVALID_ARGUMENT: You must feed a value for placeholder tensor 'gradients/split_1_grad/concat/split_1/split_dim' with dtype int32\n",
      "\t [[{{node gradients/split_1_grad/concat/split_1/split_dim}}]]\n",
      "2023-06-04 15:04:33.989448: I tensorflow/core/common_runtime/executor.cc:1197] [/device:CPU:0] (DEBUG INFO) Executor start aborting (this does not indicate an error and you can ignore this message): INVALID_ARGUMENT: You must feed a value for placeholder tensor 'gradients/split_2_grad/concat/split_2/split_dim' with dtype int32\n",
      "\t [[{{node gradients/split_2_grad/concat/split_2/split_dim}}]]\n",
      "2023-06-04 15:04:33.990045: I tensorflow/core/common_runtime/executor.cc:1197] [/device:CPU:0] (DEBUG INFO) Executor start aborting (this does not indicate an error and you can ignore this message): INVALID_ARGUMENT: You must feed a value for placeholder tensor 'gradients/split_grad/concat/split/split_dim' with dtype int32\n",
      "\t [[{{node gradients/split_grad/concat/split/split_dim}}]]\n",
      "2023-06-04 15:04:33.990586: I tensorflow/core/common_runtime/executor.cc:1197] [/device:CPU:0] (DEBUG INFO) Executor start aborting (this does not indicate an error and you can ignore this message): INVALID_ARGUMENT: You must feed a value for placeholder tensor 'gradients/split_1_grad/concat/split_1/split_dim' with dtype int32\n",
      "\t [[{{node gradients/split_1_grad/concat/split_1/split_dim}}]]\n"
     ]
    }
   ],
   "source": [
    "#PHUONG LSTM\n",
    "model = models.Sequential()\n",
    "model.add(layers.LSTM(units=200, input_shape= (X.shape[1], X.shape[2]), return_sequences=True))\n",
    "model.add(layers.LSTM(units=100, return_sequences=True))\n",
    "model.add(layers.LSTM(units=50, dropout = 0.2, return_sequences=True))\n",
    "model.add(layers.LSTM(units=20, return_sequences=False))\n",
    "model.add(layers.Dropout(0.5))\n",
    "#model.add(layers.MaxPooling1D(X.shape[1]))\n",
    "model.add(layers.Dense(200, activation = 'relu'))\n",
    "model.add(layers.Dense(1, activation='sigmoid'))\n",
    "model.compile(loss='binary_crossentropy', optimizer=keras.optimizers.Adam(learning_rate=0.0001), metrics=[\"mse\", \"acc\"])"
   ]
  },
  {
   "cell_type": "markdown",
   "id": "18c81496",
   "metadata": {},
   "source": [
    "# LSTM"
   ]
  },
  {
   "cell_type": "code",
   "execution_count": 40,
   "id": "12e74c9d",
   "metadata": {},
   "outputs": [
    {
     "name": "stderr",
     "output_type": "stream",
     "text": [
      "2023-06-02 03:56:45.887398: I tensorflow/compiler/xla/stream_executor/cuda/cuda_gpu_executor.cc:996] successful NUMA node read from SysFS had negative value (-1), but there must be at least one NUMA node, so returning NUMA node zero. See more at https://github.com/torvalds/linux/blob/v6.0/Documentation/ABI/testing/sysfs-bus-pci#L344-L355\n",
      "2023-06-02 03:56:46.028359: I tensorflow/compiler/xla/stream_executor/cuda/cuda_gpu_executor.cc:996] successful NUMA node read from SysFS had negative value (-1), but there must be at least one NUMA node, so returning NUMA node zero. See more at https://github.com/torvalds/linux/blob/v6.0/Documentation/ABI/testing/sysfs-bus-pci#L344-L355\n",
      "2023-06-02 03:56:46.028806: I tensorflow/compiler/xla/stream_executor/cuda/cuda_gpu_executor.cc:996] successful NUMA node read from SysFS had negative value (-1), but there must be at least one NUMA node, so returning NUMA node zero. See more at https://github.com/torvalds/linux/blob/v6.0/Documentation/ABI/testing/sysfs-bus-pci#L344-L355\n",
      "2023-06-02 03:56:46.034066: I tensorflow/compiler/xla/stream_executor/cuda/cuda_gpu_executor.cc:996] successful NUMA node read from SysFS had negative value (-1), but there must be at least one NUMA node, so returning NUMA node zero. See more at https://github.com/torvalds/linux/blob/v6.0/Documentation/ABI/testing/sysfs-bus-pci#L344-L355\n",
      "2023-06-02 03:56:46.034388: I tensorflow/compiler/xla/stream_executor/cuda/cuda_gpu_executor.cc:996] successful NUMA node read from SysFS had negative value (-1), but there must be at least one NUMA node, so returning NUMA node zero. See more at https://github.com/torvalds/linux/blob/v6.0/Documentation/ABI/testing/sysfs-bus-pci#L344-L355\n",
      "2023-06-02 03:56:46.034595: I tensorflow/compiler/xla/stream_executor/cuda/cuda_gpu_executor.cc:996] successful NUMA node read from SysFS had negative value (-1), but there must be at least one NUMA node, so returning NUMA node zero. See more at https://github.com/torvalds/linux/blob/v6.0/Documentation/ABI/testing/sysfs-bus-pci#L344-L355\n",
      "2023-06-02 03:56:46.680516: I tensorflow/compiler/xla/stream_executor/cuda/cuda_gpu_executor.cc:996] successful NUMA node read from SysFS had negative value (-1), but there must be at least one NUMA node, so returning NUMA node zero. See more at https://github.com/torvalds/linux/blob/v6.0/Documentation/ABI/testing/sysfs-bus-pci#L344-L355\n",
      "2023-06-02 03:56:46.680822: I tensorflow/compiler/xla/stream_executor/cuda/cuda_gpu_executor.cc:996] successful NUMA node read from SysFS had negative value (-1), but there must be at least one NUMA node, so returning NUMA node zero. See more at https://github.com/torvalds/linux/blob/v6.0/Documentation/ABI/testing/sysfs-bus-pci#L344-L355\n",
      "2023-06-02 03:56:46.680871: I tensorflow/compiler/xla/stream_executor/cuda/cuda_gpu_executor.cc:996] successful NUMA node read from SysFS had negative value (-1), but there must be at least one NUMA node, so returning NUMA node zero. See more at https://github.com/torvalds/linux/blob/v6.0/Documentation/ABI/testing/sysfs-bus-pci#L344-L355\n",
      "2023-06-02 03:56:46.680915: I tensorflow/core/common_runtime/gpu/gpu_device.cc:1635] Created device /job:localhost/replica:0/task:0/device:GPU:0 with 21610 MB memory:  -> device: 0, name: NVIDIA GeForce RTX 3090, pci bus id: 0000:01:00.0, compute capability: 8.6\n",
      "2023-06-02 03:56:46.981631: I tensorflow/core/common_runtime/executor.cc:1197] [/device:CPU:0] (DEBUG INFO) Executor start aborting (this does not indicate an error and you can ignore this message): INVALID_ARGUMENT: You must feed a value for placeholder tensor 'gradients/split_2_grad/concat/split_2/split_dim' with dtype int32\n",
      "\t [[{{node gradients/split_2_grad/concat/split_2/split_dim}}]]\n",
      "2023-06-02 03:56:46.982306: I tensorflow/core/common_runtime/executor.cc:1197] [/device:CPU:0] (DEBUG INFO) Executor start aborting (this does not indicate an error and you can ignore this message): INVALID_ARGUMENT: You must feed a value for placeholder tensor 'gradients/split_grad/concat/split/split_dim' with dtype int32\n",
      "\t [[{{node gradients/split_grad/concat/split/split_dim}}]]\n",
      "2023-06-02 03:56:46.982748: I tensorflow/core/common_runtime/executor.cc:1197] [/device:CPU:0] (DEBUG INFO) Executor start aborting (this does not indicate an error and you can ignore this message): INVALID_ARGUMENT: You must feed a value for placeholder tensor 'gradients/split_1_grad/concat/split_1/split_dim' with dtype int32\n",
      "\t [[{{node gradients/split_1_grad/concat/split_1/split_dim}}]]\n",
      "2023-06-02 03:56:47.061641: I tensorflow/core/common_runtime/executor.cc:1197] [/device:CPU:0] (DEBUG INFO) Executor start aborting (this does not indicate an error and you can ignore this message): INVALID_ARGUMENT: You must feed a value for placeholder tensor 'gradients/split_2_grad/concat/split_2/split_dim' with dtype int32\n",
      "\t [[{{node gradients/split_2_grad/concat/split_2/split_dim}}]]\n",
      "2023-06-02 03:56:47.062132: I tensorflow/core/common_runtime/executor.cc:1197] [/device:CPU:0] (DEBUG INFO) Executor start aborting (this does not indicate an error and you can ignore this message): INVALID_ARGUMENT: You must feed a value for placeholder tensor 'gradients/split_grad/concat/split/split_dim' with dtype int32\n",
      "\t [[{{node gradients/split_grad/concat/split/split_dim}}]]\n",
      "2023-06-02 03:56:47.062582: I tensorflow/core/common_runtime/executor.cc:1197] [/device:CPU:0] (DEBUG INFO) Executor start aborting (this does not indicate an error and you can ignore this message): INVALID_ARGUMENT: You must feed a value for placeholder tensor 'gradients/split_1_grad/concat/split_1/split_dim' with dtype int32\n",
      "\t [[{{node gradients/split_1_grad/concat/split_1/split_dim}}]]\n",
      "2023-06-02 03:56:47.137085: I tensorflow/core/common_runtime/executor.cc:1197] [/device:CPU:0] (DEBUG INFO) Executor start aborting (this does not indicate an error and you can ignore this message): INVALID_ARGUMENT: You must feed a value for placeholder tensor 'gradients/split_2_grad/concat/split_2/split_dim' with dtype int32\n",
      "\t [[{{node gradients/split_2_grad/concat/split_2/split_dim}}]]\n",
      "2023-06-02 03:56:47.137524: I tensorflow/core/common_runtime/executor.cc:1197] [/device:CPU:0] (DEBUG INFO) Executor start aborting (this does not indicate an error and you can ignore this message): INVALID_ARGUMENT: You must feed a value for placeholder tensor 'gradients/split_grad/concat/split/split_dim' with dtype int32\n",
      "\t [[{{node gradients/split_grad/concat/split/split_dim}}]]\n",
      "2023-06-02 03:56:47.138023: I tensorflow/core/common_runtime/executor.cc:1197] [/device:CPU:0] (DEBUG INFO) Executor start aborting (this does not indicate an error and you can ignore this message): INVALID_ARGUMENT: You must feed a value for placeholder tensor 'gradients/split_1_grad/concat/split_1/split_dim' with dtype int32\n",
      "\t [[{{node gradients/split_1_grad/concat/split_1/split_dim}}]]\n"
     ]
    }
   ],
   "source": [
    "model = models.Sequential()\n",
    "model.add(layers.LSTM(units=256, input_shape= (X.shape[1], X.shape[2]), return_sequences=True))\n",
    "model.add(layers.Dropout(0.5))\n",
    "model.add(layers.LSTM(units=256, return_sequences=True))\n",
    "model.add(layers.LSTM(units=128, return_sequences=True))\n",
    "model.add(layers.Dropout(0.5))\n",
    "model.add(layers.MaxPooling1D(X.shape[1]))\n",
    "model.add(layers.Dense(100,activation=\"relu\"))\n",
    "model.add(layers.Dense(1, activation='sigmoid'))\n",
    "model.compile(loss='binary_crossentropy', optimizer='sgd', metrics=[\"mse\", \"acc\"])"
   ]
  },
  {
   "cell_type": "code",
   "execution_count": 45,
   "id": "e2d92e31",
   "metadata": {},
   "outputs": [
    {
     "name": "stdout",
     "output_type": "stream",
     "text": [
      "Model: \"sequential_1\"\n",
      "_________________________________________________________________\n",
      " Layer (type)                Output Shape              Param #   \n",
      "=================================================================\n",
      " lstm (LSTM)                 (None, 21201, 200)        240800    \n",
      "                                                                 \n",
      " lstm_1 (LSTM)               (None, 21201, 100)        120400    \n",
      "                                                                 \n",
      " lstm_2 (LSTM)               (None, 21201, 50)         30200     \n",
      "                                                                 \n",
      " lstm_3 (LSTM)               (None, 20)                5680      \n",
      "                                                                 \n",
      " dropout (Dropout)           (None, 20)                0         \n",
      "                                                                 \n",
      " dense_2 (Dense)             (None, 200)               4200      \n",
      "                                                                 \n",
      " dense_3 (Dense)             (None, 1)                 201       \n",
      "                                                                 \n",
      "=================================================================\n",
      "Total params: 401,481\n",
      "Trainable params: 401,481\n",
      "Non-trainable params: 0\n",
      "_________________________________________________________________\n",
      "None\n"
     ]
    }
   ],
   "source": [
    "print(model.summary())"
   ]
  },
  {
   "cell_type": "code",
   "execution_count": null,
   "id": "c4fe317a",
   "metadata": {},
   "outputs": [
    {
     "name": "stdout",
     "output_type": "stream",
     "text": [
      "Epoch 1/50\n"
     ]
    },
    {
     "name": "stderr",
     "output_type": "stream",
     "text": [
      "2023-06-04 15:04:55.993492: I tensorflow/core/common_runtime/executor.cc:1197] [/device:CPU:0] (DEBUG INFO) Executor start aborting (this does not indicate an error and you can ignore this message): INVALID_ARGUMENT: You must feed a value for placeholder tensor 'gradients/split_2_grad/concat/split_2/split_dim' with dtype int32\n",
      "\t [[{{node gradients/split_2_grad/concat/split_2/split_dim}}]]\n",
      "2023-06-04 15:04:55.994079: I tensorflow/core/common_runtime/executor.cc:1197] [/device:CPU:0] (DEBUG INFO) Executor start aborting (this does not indicate an error and you can ignore this message): INVALID_ARGUMENT: You must feed a value for placeholder tensor 'gradients/split_grad/concat/split/split_dim' with dtype int32\n",
      "\t [[{{node gradients/split_grad/concat/split/split_dim}}]]\n",
      "2023-06-04 15:04:55.994672: I tensorflow/core/common_runtime/executor.cc:1197] [/device:CPU:0] (DEBUG INFO) Executor start aborting (this does not indicate an error and you can ignore this message): INVALID_ARGUMENT: You must feed a value for placeholder tensor 'gradients/split_1_grad/concat/split_1/split_dim' with dtype int32\n",
      "\t [[{{node gradients/split_1_grad/concat/split_1/split_dim}}]]\n",
      "2023-06-04 15:04:56.059613: I tensorflow/core/common_runtime/executor.cc:1197] [/device:CPU:0] (DEBUG INFO) Executor start aborting (this does not indicate an error and you can ignore this message): INVALID_ARGUMENT: You must feed a value for placeholder tensor 'gradients/split_2_grad/concat/split_2/split_dim' with dtype int32\n",
      "\t [[{{node gradients/split_2_grad/concat/split_2/split_dim}}]]\n",
      "2023-06-04 15:04:56.060160: I tensorflow/core/common_runtime/executor.cc:1197] [/device:CPU:0] (DEBUG INFO) Executor start aborting (this does not indicate an error and you can ignore this message): INVALID_ARGUMENT: You must feed a value for placeholder tensor 'gradients/split_grad/concat/split/split_dim' with dtype int32\n",
      "\t [[{{node gradients/split_grad/concat/split/split_dim}}]]\n",
      "2023-06-04 15:04:56.060655: I tensorflow/core/common_runtime/executor.cc:1197] [/device:CPU:0] (DEBUG INFO) Executor start aborting (this does not indicate an error and you can ignore this message): INVALID_ARGUMENT: You must feed a value for placeholder tensor 'gradients/split_1_grad/concat/split_1/split_dim' with dtype int32\n",
      "\t [[{{node gradients/split_1_grad/concat/split_1/split_dim}}]]\n",
      "2023-06-04 15:04:56.130583: I tensorflow/core/common_runtime/executor.cc:1197] [/device:CPU:0] (DEBUG INFO) Executor start aborting (this does not indicate an error and you can ignore this message): INVALID_ARGUMENT: You must feed a value for placeholder tensor 'gradients/split_2_grad/concat/split_2/split_dim' with dtype int32\n",
      "\t [[{{node gradients/split_2_grad/concat/split_2/split_dim}}]]\n",
      "2023-06-04 15:04:56.131143: I tensorflow/core/common_runtime/executor.cc:1197] [/device:CPU:0] (DEBUG INFO) Executor start aborting (this does not indicate an error and you can ignore this message): INVALID_ARGUMENT: You must feed a value for placeholder tensor 'gradients/split_grad/concat/split/split_dim' with dtype int32\n",
      "\t [[{{node gradients/split_grad/concat/split/split_dim}}]]\n",
      "2023-06-04 15:04:56.131789: I tensorflow/core/common_runtime/executor.cc:1197] [/device:CPU:0] (DEBUG INFO) Executor start aborting (this does not indicate an error and you can ignore this message): INVALID_ARGUMENT: You must feed a value for placeholder tensor 'gradients/split_1_grad/concat/split_1/split_dim' with dtype int32\n",
      "\t [[{{node gradients/split_1_grad/concat/split_1/split_dim}}]]\n",
      "2023-06-04 15:04:56.195855: I tensorflow/core/common_runtime/executor.cc:1197] [/device:CPU:0] (DEBUG INFO) Executor start aborting (this does not indicate an error and you can ignore this message): INVALID_ARGUMENT: You must feed a value for placeholder tensor 'gradients/split_2_grad/concat/split_2/split_dim' with dtype int32\n",
      "\t [[{{node gradients/split_2_grad/concat/split_2/split_dim}}]]\n",
      "2023-06-04 15:04:56.196435: I tensorflow/core/common_runtime/executor.cc:1197] [/device:CPU:0] (DEBUG INFO) Executor start aborting (this does not indicate an error and you can ignore this message): INVALID_ARGUMENT: You must feed a value for placeholder tensor 'gradients/split_grad/concat/split/split_dim' with dtype int32\n",
      "\t [[{{node gradients/split_grad/concat/split/split_dim}}]]\n",
      "2023-06-04 15:04:56.196909: I tensorflow/core/common_runtime/executor.cc:1197] [/device:CPU:0] (DEBUG INFO) Executor start aborting (this does not indicate an error and you can ignore this message): INVALID_ARGUMENT: You must feed a value for placeholder tensor 'gradients/split_1_grad/concat/split_1/split_dim' with dtype int32\n",
      "\t [[{{node gradients/split_1_grad/concat/split_1/split_dim}}]]\n",
      "2023-06-04 15:04:56.537255: I tensorflow/core/common_runtime/executor.cc:1197] [/device:CPU:0] (DEBUG INFO) Executor start aborting (this does not indicate an error and you can ignore this message): INVALID_ARGUMENT: You must feed a value for placeholder tensor 'gradients/split_2_grad/concat/split_2/split_dim' with dtype int32\n",
      "\t [[{{node gradients/split_2_grad/concat/split_2/split_dim}}]]\n",
      "2023-06-04 15:04:56.537832: I tensorflow/core/common_runtime/executor.cc:1197] [/device:CPU:0] (DEBUG INFO) Executor start aborting (this does not indicate an error and you can ignore this message): INVALID_ARGUMENT: You must feed a value for placeholder tensor 'gradients/split_grad/concat/split/split_dim' with dtype int32\n",
      "\t [[{{node gradients/split_grad/concat/split/split_dim}}]]\n",
      "2023-06-04 15:04:56.538523: I tensorflow/core/common_runtime/executor.cc:1197] [/device:CPU:0] (DEBUG INFO) Executor start aborting (this does not indicate an error and you can ignore this message): INVALID_ARGUMENT: You must feed a value for placeholder tensor 'gradients/split_1_grad/concat/split_1/split_dim' with dtype int32\n",
      "\t [[{{node gradients/split_1_grad/concat/split_1/split_dim}}]]\n",
      "2023-06-04 15:04:56.611259: I tensorflow/core/common_runtime/executor.cc:1197] [/device:CPU:0] (DEBUG INFO) Executor start aborting (this does not indicate an error and you can ignore this message): INVALID_ARGUMENT: You must feed a value for placeholder tensor 'gradients/split_2_grad/concat/split_2/split_dim' with dtype int32\n",
      "\t [[{{node gradients/split_2_grad/concat/split_2/split_dim}}]]\n",
      "2023-06-04 15:04:56.611841: I tensorflow/core/common_runtime/executor.cc:1197] [/device:CPU:0] (DEBUG INFO) Executor start aborting (this does not indicate an error and you can ignore this message): INVALID_ARGUMENT: You must feed a value for placeholder tensor 'gradients/split_grad/concat/split/split_dim' with dtype int32\n",
      "\t [[{{node gradients/split_grad/concat/split/split_dim}}]]\n",
      "2023-06-04 15:04:56.612344: I tensorflow/core/common_runtime/executor.cc:1197] [/device:CPU:0] (DEBUG INFO) Executor start aborting (this does not indicate an error and you can ignore this message): INVALID_ARGUMENT: You must feed a value for placeholder tensor 'gradients/split_1_grad/concat/split_1/split_dim' with dtype int32\n",
      "\t [[{{node gradients/split_1_grad/concat/split_1/split_dim}}]]\n",
      "2023-06-04 15:04:56.690118: I tensorflow/core/common_runtime/executor.cc:1197] [/device:CPU:0] (DEBUG INFO) Executor start aborting (this does not indicate an error and you can ignore this message): INVALID_ARGUMENT: You must feed a value for placeholder tensor 'gradients/split_2_grad/concat/split_2/split_dim' with dtype int32\n",
      "\t [[{{node gradients/split_2_grad/concat/split_2/split_dim}}]]\n",
      "2023-06-04 15:04:56.690765: I tensorflow/core/common_runtime/executor.cc:1197] [/device:CPU:0] (DEBUG INFO) Executor start aborting (this does not indicate an error and you can ignore this message): INVALID_ARGUMENT: You must feed a value for placeholder tensor 'gradients/split_grad/concat/split/split_dim' with dtype int32\n",
      "\t [[{{node gradients/split_grad/concat/split/split_dim}}]]\n",
      "2023-06-04 15:04:56.691274: I tensorflow/core/common_runtime/executor.cc:1197] [/device:CPU:0] (DEBUG INFO) Executor start aborting (this does not indicate an error and you can ignore this message): INVALID_ARGUMENT: You must feed a value for placeholder tensor 'gradients/split_1_grad/concat/split_1/split_dim' with dtype int32\n",
      "\t [[{{node gradients/split_1_grad/concat/split_1/split_dim}}]]\n",
      "2023-06-04 15:04:56.765224: I tensorflow/core/common_runtime/executor.cc:1197] [/device:CPU:0] (DEBUG INFO) Executor start aborting (this does not indicate an error and you can ignore this message): INVALID_ARGUMENT: You must feed a value for placeholder tensor 'gradients/split_2_grad/concat/split_2/split_dim' with dtype int32\n",
      "\t [[{{node gradients/split_2_grad/concat/split_2/split_dim}}]]\n",
      "2023-06-04 15:04:56.766094: I tensorflow/core/common_runtime/executor.cc:1197] [/device:CPU:0] (DEBUG INFO) Executor start aborting (this does not indicate an error and you can ignore this message): INVALID_ARGUMENT: You must feed a value for placeholder tensor 'gradients/split_grad/concat/split/split_dim' with dtype int32\n",
      "\t [[{{node gradients/split_grad/concat/split/split_dim}}]]\n",
      "2023-06-04 15:04:56.766610: I tensorflow/core/common_runtime/executor.cc:1197] [/device:CPU:0] (DEBUG INFO) Executor start aborting (this does not indicate an error and you can ignore this message): INVALID_ARGUMENT: You must feed a value for placeholder tensor 'gradients/split_1_grad/concat/split_1/split_dim' with dtype int32\n",
      "\t [[{{node gradients/split_1_grad/concat/split_1/split_dim}}]]\n"
     ]
    }
   ],
   "source": [
    "model.fit(X, y, validation_split=0.5, epochs=50,verbose=2)"
   ]
  },
  {
   "cell_type": "code",
   "execution_count": null,
   "id": "3e5d3cf6",
   "metadata": {},
   "outputs": [],
   "source": [
    "y_pred = model.predict(X_test, verbose=2)\n",
    "y_pred_bool = np.argmax(y_pred, axis=1)\n",
    "\n",
    "print(classification_report(y_test, y_pred_bool))"
   ]
  },
  {
   "cell_type": "markdown",
   "id": "e633faac",
   "metadata": {},
   "source": [
    "# RNN"
   ]
  },
  {
   "cell_type": "code",
   "execution_count": 46,
   "id": "7d8841f7",
   "metadata": {},
   "outputs": [
    {
     "data": {
      "text/plain": [
       "(256, 21201, 100)"
      ]
     },
     "execution_count": 46,
     "metadata": {},
     "output_type": "execute_result"
    }
   ],
   "source": [
    "X.shape"
   ]
  },
  {
   "cell_type": "code",
   "execution_count": 47,
   "id": "f850ab06",
   "metadata": {},
   "outputs": [],
   "source": [
    "model = models.Sequential() \n",
    "model.add(layers.SimpleRNN(128, input_shape= (X.shape[1], X.shape[2]), dropout=0.5, return_sequences=True))\n",
    "model.add(layers.MaxPooling1D(X.shape[1]))\n",
    "model.add(layers.Dense(64,activation=\"relu\"))\n",
    "model.add(layers.Dense(1, activation='sigmoid'))\n",
    "model.compile(loss='binary_crossentropy', optimizer='sgd', metrics=[\"mse\", \"acc\"])"
   ]
  },
  {
   "cell_type": "code",
   "execution_count": 48,
   "id": "c833aa5f",
   "metadata": {
    "scrolled": true
   },
   "outputs": [
    {
     "name": "stdout",
     "output_type": "stream",
     "text": [
      "Model: \"sequential\"\n",
      "_________________________________________________________________\n",
      " Layer (type)                Output Shape              Param #   \n",
      "=================================================================\n",
      " simple_rnn (SimpleRNN)      (None, 21201, 128)        29312     \n",
      "                                                                 \n",
      " max_pooling1d (MaxPooling1D  (None, 1, 128)           0         \n",
      " )                                                               \n",
      "                                                                 \n",
      " dense (Dense)               (None, 1, 64)             8256      \n",
      "                                                                 \n",
      " dense_1 (Dense)             (None, 1, 1)              65        \n",
      "                                                                 \n",
      "=================================================================\n",
      "Total params: 37,633\n",
      "Trainable params: 37,633\n",
      "Non-trainable params: 0\n",
      "_________________________________________________________________\n"
     ]
    }
   ],
   "source": [
    "model.summary()"
   ]
  },
  {
   "cell_type": "code",
   "execution_count": null,
   "id": "d1826c89",
   "metadata": {},
   "outputs": [
    {
     "name": "stderr",
     "output_type": "stream",
     "text": [
      "2023-06-04 18:23:07.098424: W tensorflow/tsl/framework/cpu_allocator_impl.cc:83] Allocation of 1085491200 exceeds 10% of free system memory.\n",
      "2023-06-04 18:23:07.466360: W tensorflow/tsl/framework/cpu_allocator_impl.cc:83] Allocation of 1085491200 exceeds 10% of free system memory.\n"
     ]
    },
    {
     "name": "stdout",
     "output_type": "stream",
     "text": [
      "Epoch 1/50\n"
     ]
    },
    {
     "name": "stderr",
     "output_type": "stream",
     "text": [
      "2023-06-04 18:23:08.053683: W tensorflow/tsl/framework/cpu_allocator_impl.cc:83] Allocation of 271372800 exceeds 10% of free system memory.\n",
      "2023-06-04 18:23:09.611893: I tensorflow/compiler/xla/stream_executor/cuda/cuda_dnn.cc:424] Loaded cuDNN version 8600\n"
     ]
    }
   ],
   "source": [
    "model.fit(X, y, validation_split=0.5, epochs=50, verbose=2)"
   ]
  },
  {
   "cell_type": "code",
   "execution_count": null,
   "id": "275347c7",
   "metadata": {
    "scrolled": true
   },
   "outputs": [],
   "source": [
    "y_pred = model.predict(X_test, verbose=2)\n",
    "y_pred_bool = np.argmax(y_pred, axis=1)\n",
    "\n",
    "print(classification_report(y_test, y_pred_bool))"
   ]
  },
  {
   "cell_type": "markdown",
   "id": "305d7b40",
   "metadata": {},
   "source": [
    "# Transformer"
   ]
  },
  {
   "cell_type": "code",
   "execution_count": 39,
   "id": "778b0bf0",
   "metadata": {},
   "outputs": [],
   "source": [
    "def transformer_encoder(inputs, head_size, num_heads, ff_dim, dropout=0):\n",
    "    \n",
    "    # Normalization and Attention\n",
    "    x = layers.LayerNormalization(epsilon=1e-6)(inputs)\n",
    "    x = layers.MultiHeadAttention(\n",
    "        key_dim=head_size, num_heads=num_heads, dropout=dropout\n",
    "    )(x, x)\n",
    "    x = layers.Dropout(dropout)(x)\n",
    "    res = x + inputs\n",
    "\n",
    "    # Feed Forward Part\n",
    "    x = layers.LayerNormalization(epsilon=1e-6)(res)\n",
    "    x = layers.Conv1D(filters=ff_dim, kernel_size=1, activation=\"relu\")(x)\n",
    "    x = layers.Dropout(dropout)(x)\n",
    "    x = layers.Conv1D(filters=inputs.shape[-1], kernel_size=1)(x)\n",
    "    return x + res"
   ]
  },
  {
   "cell_type": "code",
   "execution_count": 40,
   "id": "6eb7e259",
   "metadata": {},
   "outputs": [],
   "source": [
    "def build_model(\n",
    "    input_shape,\n",
    "    head_size,\n",
    "    num_heads,\n",
    "    ff_dim,\n",
    "    num_transformer_blocks,\n",
    "    mlp_units,\n",
    "    dropout=0,\n",
    "    mlp_dropout=0,\n",
    "):\n",
    "    inputs = keras.Input(shape=input_shape)\n",
    "    x = inputs\n",
    "    for _ in range(num_transformer_blocks):\n",
    "        x = transformer_encoder(x, head_size, num_heads, ff_dim, dropout)\n",
    "\n",
    "    x = layers.GlobalAveragePooling1D(data_format=\"channels_first\")(x)\n",
    "    for dim in mlp_units:\n",
    "        x = layers.Dense(dim, activation=\"relu\")(x)\n",
    "        x = layers.Dropout(mlp_dropout)(x)\n",
    "    outputs = layers.Dense(1, activation=\"sigmoid\")(x)\n",
    "    return keras.Model(inputs, outputs)"
   ]
  },
  {
   "cell_type": "code",
   "execution_count": 41,
   "id": "8b31752b",
   "metadata": {},
   "outputs": [
    {
     "name": "stdout",
     "output_type": "stream",
     "text": [
      "Model: \"model\"\n",
      "__________________________________________________________________________________________________\n",
      " Layer (type)                   Output Shape         Param #     Connected to                     \n",
      "==================================================================================================\n",
      " input_1 (InputLayer)           [(None, 21201, 100)  0           []                               \n",
      "                                ]                                                                 \n",
      "                                                                                                  \n",
      " layer_normalization (LayerNorm  (None, 21201, 100)  200         ['input_1[0][0]']                \n",
      " alization)                                                                                       \n",
      "                                                                                                  \n",
      " multi_head_attention (MultiHea  (None, 21201, 100)  25892       ['layer_normalization[0][0]',    \n",
      " dAttention)                                                      'layer_normalization[0][0]']    \n",
      "                                                                                                  \n",
      " dropout (Dropout)              (None, 21201, 100)   0           ['multi_head_attention[0][0]']   \n",
      "                                                                                                  \n",
      " tf.__operators__.add (TFOpLamb  (None, 21201, 100)  0           ['dropout[0][0]',                \n",
      " da)                                                              'input_1[0][0]']                \n",
      "                                                                                                  \n",
      " layer_normalization_1 (LayerNo  (None, 21201, 100)  200         ['tf.__operators__.add[0][0]']   \n",
      " rmalization)                                                                                     \n",
      "                                                                                                  \n",
      " conv1d (Conv1D)                (None, 21201, 32)    3232        ['layer_normalization_1[0][0]']  \n",
      "                                                                                                  \n",
      " dropout_1 (Dropout)            (None, 21201, 32)    0           ['conv1d[0][0]']                 \n",
      "                                                                                                  \n",
      " conv1d_1 (Conv1D)              (None, 21201, 100)   3300        ['dropout_1[0][0]']              \n",
      "                                                                                                  \n",
      " tf.__operators__.add_1 (TFOpLa  (None, 21201, 100)  0           ['conv1d_1[0][0]',               \n",
      " mbda)                                                            'tf.__operators__.add[0][0]']   \n",
      "                                                                                                  \n",
      " global_average_pooling1d (Glob  (None, 21201)       0           ['tf.__operators__.add_1[0][0]'] \n",
      " alAveragePooling1D)                                                                              \n",
      "                                                                                                  \n",
      " dense (Dense)                  (None, 20)           424040      ['global_average_pooling1d[0][0]'\n",
      "                                                                 ]                                \n",
      "                                                                                                  \n",
      " dropout_2 (Dropout)            (None, 20)           0           ['dense[0][0]']                  \n",
      "                                                                                                  \n",
      " dense_1 (Dense)                (None, 1)            21          ['dropout_2[0][0]']              \n",
      "                                                                                                  \n",
      "==================================================================================================\n",
      "Total params: 456,885\n",
      "Trainable params: 456,885\n",
      "Non-trainable params: 0\n",
      "__________________________________________________________________________________________________\n"
     ]
    }
   ],
   "source": [
    "input_shape = X.shape[1:]\n",
    "\n",
    "model = build_model(\n",
    "    input_shape,\n",
    "    head_size=32,\n",
    "    num_heads=2,\n",
    "    ff_dim=32,\n",
    "    num_transformer_blocks=1,\n",
    "    mlp_units=[20],\n",
    "    mlp_dropout=0.2,\n",
    "    dropout=0.25,\n",
    ")\n",
    "\n",
    "model.compile(\n",
    "    loss=\"categorical_crossentropy\",\n",
    "    #sparse_categorical_crossentropy\n",
    "    optimizer=keras.optimizers.Adam(learning_rate=1e-4),\n",
    "    metrics=[\"Precision\"],\n",
    "    #etrics=[\"categorical_accuracy\", \"Precision\", \"Recall\"],    \n",
    ")\n",
    "model.summary()\n",
    "\n",
    "callbacks = [keras.callbacks.EarlyStopping(patience=10, restore_best_weights=True)]"
   ]
  },
  {
   "cell_type": "code",
   "execution_count": 42,
   "id": "83e62eac",
   "metadata": {},
   "outputs": [],
   "source": [
    "keras.backend.clear_session()"
   ]
  },
  {
   "cell_type": "code",
   "execution_count": 43,
   "id": "ed5c843f",
   "metadata": {},
   "outputs": [],
   "source": [
    "import tensorflow as tf\n",
    "run_opts = tf.compat.v1.RunOptions(report_tensor_allocations_upon_oom = True)"
   ]
  },
  {
   "cell_type": "code",
   "execution_count": 44,
   "id": "a49d552c",
   "metadata": {},
   "outputs": [
    {
     "data": {
      "text/plain": [
       "(256, 21201, 100)"
      ]
     },
     "execution_count": 44,
     "metadata": {},
     "output_type": "execute_result"
    }
   ],
   "source": [
    "X.shape"
   ]
  },
  {
   "cell_type": "code",
   "execution_count": 45,
   "id": "dae81f23",
   "metadata": {},
   "outputs": [
    {
     "data": {
      "text/plain": [
       "(256, 1)"
      ]
     },
     "execution_count": 45,
     "metadata": {},
     "output_type": "execute_result"
    }
   ],
   "source": [
    "y.shape"
   ]
  },
  {
   "cell_type": "code",
   "execution_count": 46,
   "id": "933c8f44",
   "metadata": {
    "scrolled": true
   },
   "outputs": [
    {
     "name": "stdout",
     "output_type": "stream",
     "text": [
      "Epoch 1/2\n",
      "128/128 - 1711s - loss: 0.0000e+00 - precision: 0.0000e+00 - val_loss: 0.0000e+00 - val_precision: 0.0000e+00 - 1711s/epoch - 13s/step\n",
      "Epoch 2/2\n",
      "128/128 - 26969s - loss: 0.0000e+00 - precision: 0.0000e+00 - val_loss: 0.0000e+00 - val_precision: 0.0000e+00 - 26969s/epoch - 211s/step\n"
     ]
    },
    {
     "data": {
      "text/plain": [
       "<keras.callbacks.History at 0x225841c03d0>"
      ]
     },
     "execution_count": 46,
     "metadata": {},
     "output_type": "execute_result"
    }
   ],
   "source": [
    "model.fit(X, y, validation_split=0.5, epochs=2, verbose=2, batch_size=1)\n",
    "\n",
    "# model.evaluate(x_test, y_test, verbose=1)"
   ]
  },
  {
   "cell_type": "code",
   "execution_count": null,
   "id": "33ef2109",
   "metadata": {},
   "outputs": [],
   "source": [
    "model.evaluate(X_test, y_test, verbose=1)"
   ]
  },
  {
   "cell_type": "code",
   "execution_count": 46,
   "id": "8741a80d",
   "metadata": {},
   "outputs": [
    {
     "ename": "ResourceExhaustedError",
     "evalue": "Graph execution error:\n\nDetected at node 'model/multi_head_attention/einsum/Einsum' defined at (most recent call last):\n    File \"C:\\Users\\Admin\\anaconda3\\lib\\runpy.py\", line 197, in _run_module_as_main\n      return _run_code(code, main_globals, None,\n    File \"C:\\Users\\Admin\\anaconda3\\lib\\runpy.py\", line 87, in _run_code\n      exec(code, run_globals)\n    File \"C:\\Users\\Admin\\anaconda3\\lib\\site-packages\\ipykernel_launcher.py\", line 17, in <module>\n      app.launch_new_instance()\n    File \"C:\\Users\\Admin\\anaconda3\\lib\\site-packages\\traitlets\\config\\application.py\", line 846, in launch_instance\n      app.start()\n    File \"C:\\Users\\Admin\\anaconda3\\lib\\site-packages\\ipykernel\\kernelapp.py\", line 712, in start\n      self.io_loop.start()\n    File \"C:\\Users\\Admin\\anaconda3\\lib\\site-packages\\tornado\\platform\\asyncio.py\", line 199, in start\n      self.asyncio_loop.run_forever()\n    File \"C:\\Users\\Admin\\anaconda3\\lib\\asyncio\\base_events.py\", line 601, in run_forever\n      self._run_once()\n    File \"C:\\Users\\Admin\\anaconda3\\lib\\asyncio\\base_events.py\", line 1905, in _run_once\n      handle._run()\n    File \"C:\\Users\\Admin\\anaconda3\\lib\\asyncio\\events.py\", line 80, in _run\n      self._context.run(self._callback, *self._args)\n    File \"C:\\Users\\Admin\\anaconda3\\lib\\site-packages\\ipykernel\\kernelbase.py\", line 510, in dispatch_queue\n      await self.process_one()\n    File \"C:\\Users\\Admin\\anaconda3\\lib\\site-packages\\ipykernel\\kernelbase.py\", line 499, in process_one\n      await dispatch(*args)\n    File \"C:\\Users\\Admin\\anaconda3\\lib\\site-packages\\ipykernel\\kernelbase.py\", line 406, in dispatch_shell\n      await result\n    File \"C:\\Users\\Admin\\anaconda3\\lib\\site-packages\\ipykernel\\kernelbase.py\", line 730, in execute_request\n      reply_content = await reply_content\n    File \"C:\\Users\\Admin\\anaconda3\\lib\\site-packages\\ipykernel\\ipkernel.py\", line 390, in do_execute\n      res = shell.run_cell(code, store_history=store_history, silent=silent)\n    File \"C:\\Users\\Admin\\anaconda3\\lib\\site-packages\\ipykernel\\zmqshell.py\", line 528, in run_cell\n      return super().run_cell(*args, **kwargs)\n    File \"C:\\Users\\Admin\\anaconda3\\lib\\site-packages\\IPython\\core\\interactiveshell.py\", line 2914, in run_cell\n      result = self._run_cell(\n    File \"C:\\Users\\Admin\\anaconda3\\lib\\site-packages\\IPython\\core\\interactiveshell.py\", line 2960, in _run_cell\n      return runner(coro)\n    File \"C:\\Users\\Admin\\anaconda3\\lib\\site-packages\\IPython\\core\\async_helpers.py\", line 78, in _pseudo_sync_runner\n      coro.send(None)\n    File \"C:\\Users\\Admin\\anaconda3\\lib\\site-packages\\IPython\\core\\interactiveshell.py\", line 3185, in run_cell_async\n      has_raised = await self.run_ast_nodes(code_ast.body, cell_name,\n    File \"C:\\Users\\Admin\\anaconda3\\lib\\site-packages\\IPython\\core\\interactiveshell.py\", line 3377, in run_ast_nodes\n      if (await self.run_code(code, result,  async_=asy)):\n    File \"C:\\Users\\Admin\\anaconda3\\lib\\site-packages\\IPython\\core\\interactiveshell.py\", line 3457, in run_code\n      exec(code_obj, self.user_global_ns, self.user_ns)\n    File \"C:\\Users\\Admin\\AppData\\Local\\Temp\\ipykernel_13892\\3835176630.py\", line 1, in <module>\n      y_pred = model.predict(X_test, verbose=2)\n    File \"C:\\Users\\Admin\\anaconda3\\lib\\site-packages\\keras\\utils\\traceback_utils.py\", line 65, in error_handler\n      return fn(*args, **kwargs)\n    File \"C:\\Users\\Admin\\anaconda3\\lib\\site-packages\\keras\\engine\\training.py\", line 2350, in predict\n      tmp_batch_outputs = self.predict_function(iterator)\n    File \"C:\\Users\\Admin\\anaconda3\\lib\\site-packages\\keras\\engine\\training.py\", line 2137, in predict_function\n      return step_function(self, iterator)\n    File \"C:\\Users\\Admin\\anaconda3\\lib\\site-packages\\keras\\engine\\training.py\", line 2123, in step_function\n      outputs = model.distribute_strategy.run(run_step, args=(data,))\n    File \"C:\\Users\\Admin\\anaconda3\\lib\\site-packages\\keras\\engine\\training.py\", line 2111, in run_step\n      outputs = model.predict_step(data)\n    File \"C:\\Users\\Admin\\anaconda3\\lib\\site-packages\\keras\\engine\\training.py\", line 2079, in predict_step\n      return self(x, training=False)\n    File \"C:\\Users\\Admin\\anaconda3\\lib\\site-packages\\keras\\utils\\traceback_utils.py\", line 65, in error_handler\n      return fn(*args, **kwargs)\n    File \"C:\\Users\\Admin\\anaconda3\\lib\\site-packages\\keras\\engine\\training.py\", line 561, in __call__\n      return super().__call__(*args, **kwargs)\n    File \"C:\\Users\\Admin\\anaconda3\\lib\\site-packages\\keras\\utils\\traceback_utils.py\", line 65, in error_handler\n      return fn(*args, **kwargs)\n    File \"C:\\Users\\Admin\\anaconda3\\lib\\site-packages\\keras\\engine\\base_layer.py\", line 1132, in __call__\n      outputs = call_fn(inputs, *args, **kwargs)\n    File \"C:\\Users\\Admin\\anaconda3\\lib\\site-packages\\keras\\utils\\traceback_utils.py\", line 96, in error_handler\n      return fn(*args, **kwargs)\n    File \"C:\\Users\\Admin\\anaconda3\\lib\\site-packages\\keras\\engine\\functional.py\", line 511, in call\n      return self._run_internal_graph(inputs, training=training, mask=mask)\n    File \"C:\\Users\\Admin\\anaconda3\\lib\\site-packages\\keras\\engine\\functional.py\", line 668, in _run_internal_graph\n      outputs = node.layer(*args, **kwargs)\n    File \"C:\\Users\\Admin\\anaconda3\\lib\\site-packages\\keras\\utils\\traceback_utils.py\", line 65, in error_handler\n      return fn(*args, **kwargs)\n    File \"C:\\Users\\Admin\\anaconda3\\lib\\site-packages\\keras\\engine\\base_layer.py\", line 1132, in __call__\n      outputs = call_fn(inputs, *args, **kwargs)\n    File \"C:\\Users\\Admin\\anaconda3\\lib\\site-packages\\keras\\utils\\traceback_utils.py\", line 96, in error_handler\n      return fn(*args, **kwargs)\n    File \"C:\\Users\\Admin\\anaconda3\\lib\\site-packages\\keras\\layers\\attention\\multi_head_attention.py\", line 595, in call\n      attention_output, attention_scores = self._compute_attention(\n    File \"C:\\Users\\Admin\\anaconda3\\lib\\site-packages\\keras\\layers\\attention\\multi_head_attention.py\", line 524, in _compute_attention\n      attention_scores = tf.einsum(self._dot_product_equation, key, query)\nNode: 'model/multi_head_attention/einsum/Einsum'\nOOM when allocating tensor with shape[32,2,21201,21201] and type float on /job:localhost/replica:0/task:0/device:CPU:0 by allocator cpu\n\t [[{{node model/multi_head_attention/einsum/Einsum}}]]\nHint: If you want to see a list of allocated tensors when OOM happens, add report_tensor_allocations_upon_oom to RunOptions for current allocation info. This isn't available when running in Eager mode.\n [Op:__inference_predict_function_4396]",
     "output_type": "error",
     "traceback": [
      "\u001b[1;31m---------------------------------------------------------------------------\u001b[0m",
      "\u001b[1;31mResourceExhaustedError\u001b[0m                    Traceback (most recent call last)",
      "\u001b[1;32m~\\AppData\\Local\\Temp\\ipykernel_13892\\3835176630.py\u001b[0m in \u001b[0;36m<module>\u001b[1;34m\u001b[0m\n\u001b[1;32m----> 1\u001b[1;33m \u001b[0my_pred\u001b[0m \u001b[1;33m=\u001b[0m \u001b[0mmodel\u001b[0m\u001b[1;33m.\u001b[0m\u001b[0mpredict\u001b[0m\u001b[1;33m(\u001b[0m\u001b[0mX_test\u001b[0m\u001b[1;33m,\u001b[0m \u001b[0mverbose\u001b[0m\u001b[1;33m=\u001b[0m\u001b[1;36m2\u001b[0m\u001b[1;33m)\u001b[0m\u001b[1;33m\u001b[0m\u001b[1;33m\u001b[0m\u001b[0m\n\u001b[0m\u001b[0;32m      2\u001b[0m \u001b[0my_pred_bool\u001b[0m \u001b[1;33m=\u001b[0m \u001b[0mnp\u001b[0m\u001b[1;33m.\u001b[0m\u001b[0margmax\u001b[0m\u001b[1;33m(\u001b[0m\u001b[0my_pred\u001b[0m\u001b[1;33m,\u001b[0m \u001b[0maxis\u001b[0m\u001b[1;33m=\u001b[0m\u001b[1;36m1\u001b[0m\u001b[1;33m)\u001b[0m\u001b[1;33m\u001b[0m\u001b[1;33m\u001b[0m\u001b[0m\n\u001b[0;32m      3\u001b[0m \u001b[1;33m\u001b[0m\u001b[0m\n\u001b[0;32m      4\u001b[0m \u001b[0mprint\u001b[0m\u001b[1;33m(\u001b[0m\u001b[0mclassification_report\u001b[0m\u001b[1;33m(\u001b[0m\u001b[0my_test\u001b[0m\u001b[1;33m,\u001b[0m \u001b[0my_pred_bool\u001b[0m\u001b[1;33m)\u001b[0m\u001b[1;33m)\u001b[0m\u001b[1;33m\u001b[0m\u001b[1;33m\u001b[0m\u001b[0m\n",
      "\u001b[1;32m~\\anaconda3\\lib\\site-packages\\keras\\utils\\traceback_utils.py\u001b[0m in \u001b[0;36merror_handler\u001b[1;34m(*args, **kwargs)\u001b[0m\n\u001b[0;32m     68\u001b[0m             \u001b[1;31m# To get the full stack trace, call:\u001b[0m\u001b[1;33m\u001b[0m\u001b[1;33m\u001b[0m\u001b[0m\n\u001b[0;32m     69\u001b[0m             \u001b[1;31m# `tf.debugging.disable_traceback_filtering()`\u001b[0m\u001b[1;33m\u001b[0m\u001b[1;33m\u001b[0m\u001b[0m\n\u001b[1;32m---> 70\u001b[1;33m             \u001b[1;32mraise\u001b[0m \u001b[0me\u001b[0m\u001b[1;33m.\u001b[0m\u001b[0mwith_traceback\u001b[0m\u001b[1;33m(\u001b[0m\u001b[0mfiltered_tb\u001b[0m\u001b[1;33m)\u001b[0m \u001b[1;32mfrom\u001b[0m \u001b[1;32mNone\u001b[0m\u001b[1;33m\u001b[0m\u001b[1;33m\u001b[0m\u001b[0m\n\u001b[0m\u001b[0;32m     71\u001b[0m         \u001b[1;32mfinally\u001b[0m\u001b[1;33m:\u001b[0m\u001b[1;33m\u001b[0m\u001b[1;33m\u001b[0m\u001b[0m\n\u001b[0;32m     72\u001b[0m             \u001b[1;32mdel\u001b[0m \u001b[0mfiltered_tb\u001b[0m\u001b[1;33m\u001b[0m\u001b[1;33m\u001b[0m\u001b[0m\n",
      "\u001b[1;32m~\\anaconda3\\lib\\site-packages\\tensorflow\\python\\eager\\execute.py\u001b[0m in \u001b[0;36mquick_execute\u001b[1;34m(op_name, num_outputs, inputs, attrs, ctx, name)\u001b[0m\n\u001b[0;32m     50\u001b[0m   \u001b[1;32mtry\u001b[0m\u001b[1;33m:\u001b[0m\u001b[1;33m\u001b[0m\u001b[1;33m\u001b[0m\u001b[0m\n\u001b[0;32m     51\u001b[0m     \u001b[0mctx\u001b[0m\u001b[1;33m.\u001b[0m\u001b[0mensure_initialized\u001b[0m\u001b[1;33m(\u001b[0m\u001b[1;33m)\u001b[0m\u001b[1;33m\u001b[0m\u001b[1;33m\u001b[0m\u001b[0m\n\u001b[1;32m---> 52\u001b[1;33m     tensors = pywrap_tfe.TFE_Py_Execute(ctx._handle, device_name, op_name,\n\u001b[0m\u001b[0;32m     53\u001b[0m                                         inputs, attrs, num_outputs)\n\u001b[0;32m     54\u001b[0m   \u001b[1;32mexcept\u001b[0m \u001b[0mcore\u001b[0m\u001b[1;33m.\u001b[0m\u001b[0m_NotOkStatusException\u001b[0m \u001b[1;32mas\u001b[0m \u001b[0me\u001b[0m\u001b[1;33m:\u001b[0m\u001b[1;33m\u001b[0m\u001b[1;33m\u001b[0m\u001b[0m\n",
      "\u001b[1;31mResourceExhaustedError\u001b[0m: Graph execution error:\n\nDetected at node 'model/multi_head_attention/einsum/Einsum' defined at (most recent call last):\n    File \"C:\\Users\\Admin\\anaconda3\\lib\\runpy.py\", line 197, in _run_module_as_main\n      return _run_code(code, main_globals, None,\n    File \"C:\\Users\\Admin\\anaconda3\\lib\\runpy.py\", line 87, in _run_code\n      exec(code, run_globals)\n    File \"C:\\Users\\Admin\\anaconda3\\lib\\site-packages\\ipykernel_launcher.py\", line 17, in <module>\n      app.launch_new_instance()\n    File \"C:\\Users\\Admin\\anaconda3\\lib\\site-packages\\traitlets\\config\\application.py\", line 846, in launch_instance\n      app.start()\n    File \"C:\\Users\\Admin\\anaconda3\\lib\\site-packages\\ipykernel\\kernelapp.py\", line 712, in start\n      self.io_loop.start()\n    File \"C:\\Users\\Admin\\anaconda3\\lib\\site-packages\\tornado\\platform\\asyncio.py\", line 199, in start\n      self.asyncio_loop.run_forever()\n    File \"C:\\Users\\Admin\\anaconda3\\lib\\asyncio\\base_events.py\", line 601, in run_forever\n      self._run_once()\n    File \"C:\\Users\\Admin\\anaconda3\\lib\\asyncio\\base_events.py\", line 1905, in _run_once\n      handle._run()\n    File \"C:\\Users\\Admin\\anaconda3\\lib\\asyncio\\events.py\", line 80, in _run\n      self._context.run(self._callback, *self._args)\n    File \"C:\\Users\\Admin\\anaconda3\\lib\\site-packages\\ipykernel\\kernelbase.py\", line 510, in dispatch_queue\n      await self.process_one()\n    File \"C:\\Users\\Admin\\anaconda3\\lib\\site-packages\\ipykernel\\kernelbase.py\", line 499, in process_one\n      await dispatch(*args)\n    File \"C:\\Users\\Admin\\anaconda3\\lib\\site-packages\\ipykernel\\kernelbase.py\", line 406, in dispatch_shell\n      await result\n    File \"C:\\Users\\Admin\\anaconda3\\lib\\site-packages\\ipykernel\\kernelbase.py\", line 730, in execute_request\n      reply_content = await reply_content\n    File \"C:\\Users\\Admin\\anaconda3\\lib\\site-packages\\ipykernel\\ipkernel.py\", line 390, in do_execute\n      res = shell.run_cell(code, store_history=store_history, silent=silent)\n    File \"C:\\Users\\Admin\\anaconda3\\lib\\site-packages\\ipykernel\\zmqshell.py\", line 528, in run_cell\n      return super().run_cell(*args, **kwargs)\n    File \"C:\\Users\\Admin\\anaconda3\\lib\\site-packages\\IPython\\core\\interactiveshell.py\", line 2914, in run_cell\n      result = self._run_cell(\n    File \"C:\\Users\\Admin\\anaconda3\\lib\\site-packages\\IPython\\core\\interactiveshell.py\", line 2960, in _run_cell\n      return runner(coro)\n    File \"C:\\Users\\Admin\\anaconda3\\lib\\site-packages\\IPython\\core\\async_helpers.py\", line 78, in _pseudo_sync_runner\n      coro.send(None)\n    File \"C:\\Users\\Admin\\anaconda3\\lib\\site-packages\\IPython\\core\\interactiveshell.py\", line 3185, in run_cell_async\n      has_raised = await self.run_ast_nodes(code_ast.body, cell_name,\n    File \"C:\\Users\\Admin\\anaconda3\\lib\\site-packages\\IPython\\core\\interactiveshell.py\", line 3377, in run_ast_nodes\n      if (await self.run_code(code, result,  async_=asy)):\n    File \"C:\\Users\\Admin\\anaconda3\\lib\\site-packages\\IPython\\core\\interactiveshell.py\", line 3457, in run_code\n      exec(code_obj, self.user_global_ns, self.user_ns)\n    File \"C:\\Users\\Admin\\AppData\\Local\\Temp\\ipykernel_13892\\3835176630.py\", line 1, in <module>\n      y_pred = model.predict(X_test, verbose=2)\n    File \"C:\\Users\\Admin\\anaconda3\\lib\\site-packages\\keras\\utils\\traceback_utils.py\", line 65, in error_handler\n      return fn(*args, **kwargs)\n    File \"C:\\Users\\Admin\\anaconda3\\lib\\site-packages\\keras\\engine\\training.py\", line 2350, in predict\n      tmp_batch_outputs = self.predict_function(iterator)\n    File \"C:\\Users\\Admin\\anaconda3\\lib\\site-packages\\keras\\engine\\training.py\", line 2137, in predict_function\n      return step_function(self, iterator)\n    File \"C:\\Users\\Admin\\anaconda3\\lib\\site-packages\\keras\\engine\\training.py\", line 2123, in step_function\n      outputs = model.distribute_strategy.run(run_step, args=(data,))\n    File \"C:\\Users\\Admin\\anaconda3\\lib\\site-packages\\keras\\engine\\training.py\", line 2111, in run_step\n      outputs = model.predict_step(data)\n    File \"C:\\Users\\Admin\\anaconda3\\lib\\site-packages\\keras\\engine\\training.py\", line 2079, in predict_step\n      return self(x, training=False)\n    File \"C:\\Users\\Admin\\anaconda3\\lib\\site-packages\\keras\\utils\\traceback_utils.py\", line 65, in error_handler\n      return fn(*args, **kwargs)\n    File \"C:\\Users\\Admin\\anaconda3\\lib\\site-packages\\keras\\engine\\training.py\", line 561, in __call__\n      return super().__call__(*args, **kwargs)\n    File \"C:\\Users\\Admin\\anaconda3\\lib\\site-packages\\keras\\utils\\traceback_utils.py\", line 65, in error_handler\n      return fn(*args, **kwargs)\n    File \"C:\\Users\\Admin\\anaconda3\\lib\\site-packages\\keras\\engine\\base_layer.py\", line 1132, in __call__\n      outputs = call_fn(inputs, *args, **kwargs)\n    File \"C:\\Users\\Admin\\anaconda3\\lib\\site-packages\\keras\\utils\\traceback_utils.py\", line 96, in error_handler\n      return fn(*args, **kwargs)\n    File \"C:\\Users\\Admin\\anaconda3\\lib\\site-packages\\keras\\engine\\functional.py\", line 511, in call\n      return self._run_internal_graph(inputs, training=training, mask=mask)\n    File \"C:\\Users\\Admin\\anaconda3\\lib\\site-packages\\keras\\engine\\functional.py\", line 668, in _run_internal_graph\n      outputs = node.layer(*args, **kwargs)\n    File \"C:\\Users\\Admin\\anaconda3\\lib\\site-packages\\keras\\utils\\traceback_utils.py\", line 65, in error_handler\n      return fn(*args, **kwargs)\n    File \"C:\\Users\\Admin\\anaconda3\\lib\\site-packages\\keras\\engine\\base_layer.py\", line 1132, in __call__\n      outputs = call_fn(inputs, *args, **kwargs)\n    File \"C:\\Users\\Admin\\anaconda3\\lib\\site-packages\\keras\\utils\\traceback_utils.py\", line 96, in error_handler\n      return fn(*args, **kwargs)\n    File \"C:\\Users\\Admin\\anaconda3\\lib\\site-packages\\keras\\layers\\attention\\multi_head_attention.py\", line 595, in call\n      attention_output, attention_scores = self._compute_attention(\n    File \"C:\\Users\\Admin\\anaconda3\\lib\\site-packages\\keras\\layers\\attention\\multi_head_attention.py\", line 524, in _compute_attention\n      attention_scores = tf.einsum(self._dot_product_equation, key, query)\nNode: 'model/multi_head_attention/einsum/Einsum'\nOOM when allocating tensor with shape[32,2,21201,21201] and type float on /job:localhost/replica:0/task:0/device:CPU:0 by allocator cpu\n\t [[{{node model/multi_head_attention/einsum/Einsum}}]]\nHint: If you want to see a list of allocated tensors when OOM happens, add report_tensor_allocations_upon_oom to RunOptions for current allocation info. This isn't available when running in Eager mode.\n [Op:__inference_predict_function_4396]"
     ]
    }
   ],
   "source": [
    "y_pred = model.predict(X_test, verbose=2)\n",
    "y_pred_bool = np.argmax(y_pred, axis=1)\n",
    "\n",
    "print(classification_report(y_test, y_pred_bool))"
   ]
  },
  {
   "cell_type": "code",
   "execution_count": null,
   "id": "ca3a34af",
   "metadata": {},
   "outputs": [],
   "source": []
  },
  {
   "cell_type": "code",
   "execution_count": null,
   "id": "61517811",
   "metadata": {},
   "outputs": [],
   "source": []
  },
  {
   "cell_type": "code",
   "execution_count": null,
   "id": "24cdebc5",
   "metadata": {},
   "outputs": [],
   "source": []
  },
  {
   "cell_type": "code",
   "execution_count": null,
   "id": "75ef9d62",
   "metadata": {},
   "outputs": [],
   "source": []
  },
  {
   "cell_type": "code",
   "execution_count": 55,
   "id": "08a7d092",
   "metadata": {},
   "outputs": [],
   "source": [
    "import tensorflow as tf"
   ]
  },
  {
   "cell_type": "code",
   "execution_count": 56,
   "id": "65c382f1",
   "metadata": {},
   "outputs": [
    {
     "data": {
      "text/plain": [
       "'2.11.0'"
      ]
     },
     "execution_count": 56,
     "metadata": {},
     "output_type": "execute_result"
    }
   ],
   "source": [
    "tf.__version__"
   ]
  },
  {
   "cell_type": "code",
   "execution_count": 57,
   "id": "fe625675",
   "metadata": {
    "scrolled": true
   },
   "outputs": [
    {
     "name": "stdout",
     "output_type": "stream",
     "text": [
      "Please install GPU version of TF\n"
     ]
    }
   ],
   "source": [
    "if tf.test.gpu_device_name():\n",
    "    print('Default GPU Device:{}'.format(tf.test.gpu_device_name()))\n",
    "else:\n",
    "    print(\"Please install GPU version of TF\")"
   ]
  },
  {
   "cell_type": "code",
   "execution_count": 58,
   "id": "87f85640",
   "metadata": {},
   "outputs": [
    {
     "data": {
      "text/plain": [
       "[PhysicalDevice(name='/physical_device:CPU:0', device_type='CPU')]"
      ]
     },
     "execution_count": 58,
     "metadata": {},
     "output_type": "execute_result"
    }
   ],
   "source": [
    "tf.config.list_physical_devices()"
   ]
  },
  {
   "cell_type": "code",
   "execution_count": 47,
   "id": "046ef333",
   "metadata": {},
   "outputs": [
    {
     "name": "stdout",
     "output_type": "stream",
     "text": [
      "2.12.0\n"
     ]
    },
    {
     "data": {
      "text/plain": [
       "[PhysicalDevice(name='/physical_device:GPU:0', device_type='GPU')]"
      ]
     },
     "execution_count": 47,
     "metadata": {},
     "output_type": "execute_result"
    }
   ],
   "source": [
    "import tensorflow as tf\n",
    "print (tf.version.VERSION)\n",
    "tf.config.list_physical_devices('GPU')"
   ]
  },
  {
   "cell_type": "code",
   "execution_count": null,
   "id": "75bdccbc",
   "metadata": {},
   "outputs": [],
   "source": [
    "pip install tensorflow"
   ]
  },
  {
   "cell_type": "code",
   "execution_count": null,
   "id": "e192bdda",
   "metadata": {},
   "outputs": [],
   "source": []
  },
  {
   "cell_type": "code",
   "execution_count": null,
   "id": "b80c56ec",
   "metadata": {},
   "outputs": [],
   "source": []
  },
  {
   "cell_type": "code",
   "execution_count": 61,
   "id": "06350d84",
   "metadata": {},
   "outputs": [
    {
     "name": "stdout",
     "output_type": "stream",
     "text": [
      "/bin/bash: /home/minhphuong/miniconda3/lib/libtinfo.so.6: no version information available (required by /bin/bash)\n",
      "Defaulting to user installation because normal site-packages is not writeable\n",
      "Requirement already satisfied: GPUtil in /home/minhphuong/.local/lib/python3.10/site-packages (1.4.0)\n",
      "Note: you may need to restart the kernel to use updated packages.\n"
     ]
    }
   ],
   "source": [
    "pip install GPUtil"
   ]
  },
  {
   "cell_type": "code",
   "execution_count": 62,
   "id": "b39e2e74",
   "metadata": {},
   "outputs": [
    {
     "name": "stdout",
     "output_type": "stream",
     "text": [
      "| ID | GPU | MEM |\n",
      "------------------\n",
      "|  0 | 31% | 94% |\n"
     ]
    }
   ],
   "source": [
    "from GPUtil import showUtilization as gpu_usage\n",
    "gpu_usage() "
   ]
  },
  {
   "cell_type": "code",
   "execution_count": 63,
   "id": "e8332820",
   "metadata": {},
   "outputs": [
    {
     "name": "stdout",
     "output_type": "stream",
     "text": [
      "/bin/bash: /home/minhphuong/miniconda3/lib/libtinfo.so.6: no version information available (required by /bin/bash)\n",
      "Defaulting to user installation because normal site-packages is not writeable\n",
      "Requirement already satisfied: torch in /home/minhphuong/.local/lib/python3.10/site-packages (2.0.1)\n",
      "Requirement already satisfied: filelock in /home/minhphuong/.local/lib/python3.10/site-packages (from torch) (3.12.0)\n",
      "Requirement already satisfied: typing-extensions in /home/minhphuong/.local/lib/python3.10/site-packages (from torch) (4.5.0)\n",
      "Requirement already satisfied: sympy in /home/minhphuong/.local/lib/python3.10/site-packages (from torch) (1.12)\n",
      "Requirement already satisfied: networkx in /home/minhphuong/.local/lib/python3.10/site-packages (from torch) (3.1)\n",
      "Requirement already satisfied: jinja2 in /home/minhphuong/.local/lib/python3.10/site-packages (from torch) (3.1.2)\n",
      "Requirement already satisfied: nvidia-cuda-nvrtc-cu11==11.7.99 in /home/minhphuong/.local/lib/python3.10/site-packages (from torch) (11.7.99)\n",
      "Requirement already satisfied: nvidia-cuda-runtime-cu11==11.7.99 in /home/minhphuong/.local/lib/python3.10/site-packages (from torch) (11.7.99)\n",
      "Requirement already satisfied: nvidia-cuda-cupti-cu11==11.7.101 in /home/minhphuong/.local/lib/python3.10/site-packages (from torch) (11.7.101)\n",
      "Requirement already satisfied: nvidia-cudnn-cu11==8.5.0.96 in /home/minhphuong/.local/lib/python3.10/site-packages (from torch) (8.5.0.96)\n",
      "Requirement already satisfied: nvidia-cublas-cu11==11.10.3.66 in /home/minhphuong/.local/lib/python3.10/site-packages (from torch) (11.10.3.66)\n",
      "Requirement already satisfied: nvidia-cufft-cu11==10.9.0.58 in /home/minhphuong/.local/lib/python3.10/site-packages (from torch) (10.9.0.58)\n",
      "Requirement already satisfied: nvidia-curand-cu11==10.2.10.91 in /home/minhphuong/.local/lib/python3.10/site-packages (from torch) (10.2.10.91)\n",
      "Requirement already satisfied: nvidia-cusolver-cu11==11.4.0.1 in /home/minhphuong/.local/lib/python3.10/site-packages (from torch) (11.4.0.1)\n",
      "Requirement already satisfied: nvidia-cusparse-cu11==11.7.4.91 in /home/minhphuong/.local/lib/python3.10/site-packages (from torch) (11.7.4.91)\n",
      "Requirement already satisfied: nvidia-nccl-cu11==2.14.3 in /home/minhphuong/.local/lib/python3.10/site-packages (from torch) (2.14.3)\n",
      "Requirement already satisfied: nvidia-nvtx-cu11==11.7.91 in /home/minhphuong/.local/lib/python3.10/site-packages (from torch) (11.7.91)\n",
      "Requirement already satisfied: triton==2.0.0 in /home/minhphuong/.local/lib/python3.10/site-packages (from torch) (2.0.0)\n",
      "Requirement already satisfied: setuptools in /usr/lib/python3/dist-packages (from nvidia-cublas-cu11==11.10.3.66->torch) (59.6.0)\n",
      "Requirement already satisfied: wheel in /usr/lib/python3/dist-packages (from nvidia-cublas-cu11==11.10.3.66->torch) (0.37.1)\n",
      "Requirement already satisfied: cmake in /home/minhphuong/.local/lib/python3.10/site-packages (from triton==2.0.0->torch) (3.26.3)\n",
      "Requirement already satisfied: lit in /home/minhphuong/.local/lib/python3.10/site-packages (from triton==2.0.0->torch) (16.0.5)\n",
      "Requirement already satisfied: MarkupSafe>=2.0 in /home/minhphuong/.local/lib/python3.10/site-packages (from jinja2->torch) (2.1.2)\n",
      "Requirement already satisfied: mpmath>=0.19 in /home/minhphuong/.local/lib/python3.10/site-packages (from sympy->torch) (1.3.0)\n",
      "Note: you may need to restart the kernel to use updated packages.\n"
     ]
    }
   ],
   "source": [
    "pip install torch"
   ]
  },
  {
   "cell_type": "code",
   "execution_count": 64,
   "id": "85e0c8ac",
   "metadata": {},
   "outputs": [],
   "source": [
    "import torch\n",
    "torch.cuda.empty_cache()"
   ]
  },
  {
   "cell_type": "code",
   "execution_count": 65,
   "id": "c700a22b",
   "metadata": {},
   "outputs": [
    {
     "ename": "ModuleNotFoundError",
     "evalue": "No module named 'numba'",
     "output_type": "error",
     "traceback": [
      "\u001b[0;31m---------------------------------------------------------------------------\u001b[0m",
      "\u001b[0;31mModuleNotFoundError\u001b[0m                       Traceback (most recent call last)",
      "Cell \u001b[0;32mIn[65], line 1\u001b[0m\n\u001b[0;32m----> 1\u001b[0m \u001b[38;5;28;01mfrom\u001b[39;00m \u001b[38;5;21;01mnumba\u001b[39;00m \u001b[38;5;28;01mimport\u001b[39;00m cuda\n\u001b[1;32m      2\u001b[0m cuda\u001b[38;5;241m.\u001b[39mselect_device(\u001b[38;5;241m0\u001b[39m)\n\u001b[1;32m      3\u001b[0m cuda\u001b[38;5;241m.\u001b[39mclose()\n",
      "\u001b[0;31mModuleNotFoundError\u001b[0m: No module named 'numba'"
     ]
    }
   ],
   "source": [
    "from numba import cuda\n",
    "cuda.select_device(0)\n",
    "cuda.close()\n",
    "cuda.select_device(0)"
   ]
  },
  {
   "cell_type": "code",
   "execution_count": null,
   "id": "870edd15",
   "metadata": {},
   "outputs": [],
   "source": [
    "def free_gpu_cache():\n",
    "    print(\"Initial GPU Usage\")\n",
    "    gpu_usage()                             \n",
    "\n",
    "    torch.cuda.empty_cache()\n",
    "\n",
    "    cuda.select_device(0)\n",
    "    cuda.close()\n",
    "    cuda.select_device(0)\n",
    "\n",
    "    print(\"GPU Usage after emptying the cache\")\n",
    "    gpu_usage()\n",
    "\n",
    "free_gpu_cache()   "
   ]
  },
  {
   "cell_type": "code",
   "execution_count": null,
   "id": "f7066060",
   "metadata": {},
   "outputs": [],
   "source": []
  },
  {
   "cell_type": "code",
   "execution_count": null,
   "id": "2a9f1294",
   "metadata": {},
   "outputs": [],
   "source": []
  },
  {
   "cell_type": "code",
   "execution_count": null,
   "id": "93618166",
   "metadata": {},
   "outputs": [],
   "source": []
  },
  {
   "cell_type": "code",
   "execution_count": null,
   "id": "0645300b",
   "metadata": {},
   "outputs": [],
   "source": []
  },
  {
   "cell_type": "code",
   "execution_count": null,
   "id": "924b056e",
   "metadata": {},
   "outputs": [],
   "source": []
  },
  {
   "cell_type": "code",
   "execution_count": null,
   "id": "f9c3b005",
   "metadata": {},
   "outputs": [],
   "source": []
  },
  {
   "cell_type": "code",
   "execution_count": null,
   "id": "c2de16b6",
   "metadata": {},
   "outputs": [],
   "source": []
  },
  {
   "cell_type": "code",
   "execution_count": null,
   "id": "5706e51e",
   "metadata": {},
   "outputs": [],
   "source": []
  },
  {
   "cell_type": "code",
   "execution_count": null,
   "id": "83996ec1",
   "metadata": {},
   "outputs": [],
   "source": []
  },
  {
   "cell_type": "code",
   "execution_count": null,
   "id": "d16c90c3",
   "metadata": {},
   "outputs": [],
   "source": []
  },
  {
   "cell_type": "code",
   "execution_count": null,
   "id": "aa4aaaa9",
   "metadata": {},
   "outputs": [],
   "source": []
  },
  {
   "cell_type": "code",
   "execution_count": null,
   "id": "84b80918",
   "metadata": {},
   "outputs": [],
   "source": []
  },
  {
   "cell_type": "code",
   "execution_count": null,
   "id": "fb54812f",
   "metadata": {},
   "outputs": [],
   "source": []
  },
  {
   "cell_type": "code",
   "execution_count": null,
   "id": "2c1f9d21",
   "metadata": {},
   "outputs": [],
   "source": []
  },
  {
   "cell_type": "code",
   "execution_count": null,
   "id": "16882124",
   "metadata": {},
   "outputs": [],
   "source": []
  },
  {
   "cell_type": "code",
   "execution_count": null,
   "id": "8c07097c",
   "metadata": {},
   "outputs": [],
   "source": []
  },
  {
   "cell_type": "code",
   "execution_count": null,
   "id": "8a4eefda",
   "metadata": {},
   "outputs": [],
   "source": []
  },
  {
   "cell_type": "code",
   "execution_count": null,
   "id": "efa129b5",
   "metadata": {},
   "outputs": [],
   "source": []
  },
  {
   "cell_type": "code",
   "execution_count": null,
   "id": "b738ade5",
   "metadata": {},
   "outputs": [],
   "source": []
  },
  {
   "cell_type": "code",
   "execution_count": null,
   "id": "728357e7",
   "metadata": {},
   "outputs": [],
   "source": []
  },
  {
   "cell_type": "code",
   "execution_count": null,
   "id": "af5897bb",
   "metadata": {},
   "outputs": [],
   "source": []
  },
  {
   "cell_type": "code",
   "execution_count": null,
   "id": "025c47c0",
   "metadata": {},
   "outputs": [],
   "source": []
  },
  {
   "cell_type": "code",
   "execution_count": null,
   "id": "cd36024f",
   "metadata": {},
   "outputs": [],
   "source": []
  },
  {
   "cell_type": "code",
   "execution_count": null,
   "id": "a9c0d761",
   "metadata": {},
   "outputs": [],
   "source": []
  },
  {
   "cell_type": "code",
   "execution_count": null,
   "id": "3233de47",
   "metadata": {},
   "outputs": [],
   "source": []
  },
  {
   "cell_type": "code",
   "execution_count": null,
   "id": "602ade45",
   "metadata": {},
   "outputs": [],
   "source": []
  },
  {
   "cell_type": "code",
   "execution_count": null,
   "id": "aa4a5f91",
   "metadata": {},
   "outputs": [],
   "source": []
  },
  {
   "cell_type": "code",
   "execution_count": null,
   "id": "702af9d6",
   "metadata": {},
   "outputs": [],
   "source": []
  },
  {
   "cell_type": "code",
   "execution_count": null,
   "id": "ef921bd3",
   "metadata": {},
   "outputs": [],
   "source": []
  },
  {
   "cell_type": "code",
   "execution_count": null,
   "id": "870c3191",
   "metadata": {},
   "outputs": [],
   "source": []
  },
  {
   "cell_type": "code",
   "execution_count": null,
   "id": "00eac255",
   "metadata": {},
   "outputs": [],
   "source": []
  },
  {
   "cell_type": "code",
   "execution_count": null,
   "id": "178d3e8b",
   "metadata": {},
   "outputs": [],
   "source": []
  },
  {
   "cell_type": "code",
   "execution_count": null,
   "id": "68bf65ea",
   "metadata": {},
   "outputs": [],
   "source": []
  },
  {
   "cell_type": "code",
   "execution_count": null,
   "id": "67df97ab",
   "metadata": {},
   "outputs": [],
   "source": []
  },
  {
   "cell_type": "code",
   "execution_count": null,
   "id": "c8033adc",
   "metadata": {},
   "outputs": [],
   "source": []
  }
 ],
 "metadata": {
  "kernelspec": {
   "display_name": "Python 3 (ipykernel)",
   "language": "python",
   "name": "python3"
  },
  "language_info": {
   "codemirror_mode": {
    "name": "ipython",
    "version": 3
   },
   "file_extension": ".py",
   "mimetype": "text/x-python",
   "name": "python",
   "nbconvert_exporter": "python",
   "pygments_lexer": "ipython3",
   "version": "3.9.13"
  }
 },
 "nbformat": 4,
 "nbformat_minor": 5
}
